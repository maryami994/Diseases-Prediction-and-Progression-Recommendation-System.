{
  "cells": [
    {
      "cell_type": "markdown",
      "id": "0a9c3e64-aef3-4f97-a82d-17e11785f1ba",
      "metadata": {
        "id": "0a9c3e64-aef3-4f97-a82d-17e11785f1ba"
      },
      "source": [
        "# **-------------- Classification ---------------**"
      ]
    },
    {
      "cell_type": "code",
      "execution_count": null,
      "id": "Ls19Rcx23s7F",
      "metadata": {
        "colab": {
          "base_uri": "https://localhost:8080/"
        },
        "id": "Ls19Rcx23s7F",
        "outputId": "e1858a7b-2d1d-4282-c051-27995f3c8396"
      },
      "outputs": [
        {
          "name": "stderr",
          "output_type": "stream",
          "text": [
            "2025-05-08 15:46:07,535 - INFO - Logger is now configured correctly.\n"
          ]
        }
      ],
      "source": [
        "import logging\n",
        "\n",
        "# Remove all handlers associated with the root logger (Jupyter attaches its own by default)\n",
        "for handler in logging.root.handlers[:]:\n",
        "    logging.root.removeHandler(handler)\n",
        "\n",
        "# Reconfigure logging\n",
        "logging.basicConfig(level=logging.INFO, format='%(asctime)s - %(levelname)s - %(message)s')\n",
        "logger = logging.getLogger(__name__)\n",
        "\n",
        "logger.info(\"Logger is now configured correctly.\")\n"
      ]
    },
    {
      "cell_type": "code",
      "execution_count": null,
      "id": "uFuYvxqS2d0N",
      "metadata": {
        "colab": {
          "base_uri": "https://localhost:8080/"
        },
        "id": "uFuYvxqS2d0N",
        "outputId": "019f7289-4fdf-4564-f733-20df50a58008"
      },
      "outputs": [
        {
          "name": "stderr",
          "output_type": "stream",
          "text": [
            "2025-05-08 15:04:16,639 - INFO - All libraries for Classification imported successfully.\n"
          ]
        }
      ],
      "source": [
        "import pandas as pd\n",
        "import numpy as np\n",
        "import matplotlib.pyplot as plt\n",
        "import seaborn as sns\n",
        "import tensorflow as tf\n",
        "from tensorflow.keras.models import Sequential\n",
        "from tensorflow.keras.layers import Dense, Dropout, BatchNormalization\n",
        "from tensorflow.keras.optimizers import Adam\n",
        "from tensorflow.keras.callbacks import EarlyStopping\n",
        "from sklearn.model_selection import train_test_split\n",
        "from sklearn.metrics import classification_report, accuracy_score, multilabel_confusion_matrix, confusion_matrix\n",
        "from sklearn.feature_selection import mutual_info_classif\n",
        "from sklearn.multioutput import MultiOutputClassifier\n",
        "import xgboost as xgb\n",
        "from sklearn.model_selection import GridSearchCV\n",
        "\n",
        "logger.info(\"All libraries for Classification imported successfully.\")\n"
      ]
    },
    {
      "cell_type": "markdown",
      "id": "d2e03042-ab63-4721-811c-5c00b64d34eb",
      "metadata": {
        "id": "d2e03042-ab63-4721-811c-5c00b64d34eb"
      },
      "source": [
        "## **Model Building**"
      ]
    },
    {
      "cell_type": "markdown",
      "id": "8ed356a7",
      "metadata": {
        "id": "8ed356a7"
      },
      "source": [
        "### **XGBoost**"
      ]
    },
    {
      "cell_type": "code",
      "execution_count": null,
      "id": "63960693",
      "metadata": {
        "colab": {
          "base_uri": "https://localhost:8080/"
        },
        "id": "63960693",
        "outputId": "b31410aa-f666-4004-9547-1a0fc87be09b"
      },
      "outputs": [
        {
          "name": "stdout",
          "output_type": "stream",
          "text": [
            "Fitting 3 folds for each of 8 candidates, totalling 24 fits\n"
          ]
        },
        {
          "name": "stderr",
          "output_type": "stream",
          "text": [
            "/usr/local/lib/python3.11/dist-packages/xgboost/core.py:158: UserWarning: [15:05:58] WARNING: /workspace/src/learner.cc:740: \n",
            "Parameters: { \"use_label_encoder\" } are not used.\n",
            "\n",
            "  warnings.warn(smsg, UserWarning)\n",
            "/usr/local/lib/python3.11/dist-packages/xgboost/core.py:158: UserWarning: [15:05:59] WARNING: /workspace/src/learner.cc:740: \n",
            "Parameters: { \"use_label_encoder\" } are not used.\n",
            "\n",
            "  warnings.warn(smsg, UserWarning)\n",
            "/usr/local/lib/python3.11/dist-packages/xgboost/core.py:158: UserWarning: [15:06:00] WARNING: /workspace/src/learner.cc:740: \n",
            "Parameters: { \"use_label_encoder\" } are not used.\n",
            "\n",
            "  warnings.warn(smsg, UserWarning)\n",
            "/usr/local/lib/python3.11/dist-packages/xgboost/core.py:158: UserWarning: [15:06:00] WARNING: /workspace/src/learner.cc:740: \n",
            "Parameters: { \"use_label_encoder\" } are not used.\n",
            "\n",
            "  warnings.warn(smsg, UserWarning)\n",
            "/usr/local/lib/python3.11/dist-packages/xgboost/core.py:158: UserWarning: [15:06:01] WARNING: /workspace/src/learner.cc:740: \n",
            "Parameters: { \"use_label_encoder\" } are not used.\n",
            "\n",
            "  warnings.warn(smsg, UserWarning)\n"
          ]
        },
        {
          "name": "stdout",
          "output_type": "stream",
          "text": [
            "Best Parameters: {'estimator__learning_rate': 0.1, 'estimator__max_depth': 5, 'estimator__n_estimators': 100}\n",
            "Best CV Accuracy: 0.9499999999999998\n"
          ]
        }
      ],
      "source": [
        "# Define the base XGBoost model\n",
        "base_model = xgb.XGBClassifier(random_state=42, use_label_encoder=False, eval_metric='logloss')\n",
        "\n",
        "# Wrap in MultiOutputClassifier\n",
        "multi_model = MultiOutputClassifier(base_model)\n",
        "\n",
        "# Define parameter grid\n",
        "param_grid = {\n",
        "    'estimator__n_estimators': [50, 100],\n",
        "    'estimator__learning_rate': [0.05, 0.1],\n",
        "    'estimator__max_depth': [3, 5]\n",
        "}\n",
        "\n",
        "# Initialize GridSearchCV\n",
        "grid_search = GridSearchCV(\n",
        "    multi_model,\n",
        "    param_grid,\n",
        "    scoring='accuracy',\n",
        "    cv=3,\n",
        "    verbose=1,\n",
        "    n_jobs=-1\n",
        ")\n",
        "\n",
        "# Fit to training data\n",
        "grid_search.fit(X_train_scaled, y_train)\n",
        "\n",
        "# Best parameters and score\n",
        "print(\"Best Parameters:\", grid_search.best_params_)\n",
        "print(\"Best CV Accuracy:\", grid_search.best_score_)"
      ]
    },
    {
      "cell_type": "markdown",
      "id": "428d6713",
      "metadata": {
        "id": "428d6713"
      },
      "source": [
        "#### Model Evaluation"
      ]
    },
    {
      "cell_type": "code",
      "execution_count": null,
      "id": "ae2de089-c50c-4a80-9262-f63b7ef54874",
      "metadata": {
        "colab": {
          "base_uri": "https://localhost:8080/"
        },
        "id": "ae2de089-c50c-4a80-9262-f63b7ef54874",
        "outputId": "37b97668-9d50-4cbf-aae2-6983ae620263"
      },
      "outputs": [
        {
          "name": "stdout",
          "output_type": "stream",
          "text": [
            "XGBoost Train Accuracy: 0.97625\n",
            "XGBoost Test Accuracy: 0.9578333333333333\n",
            "              precision    recall  f1-score   support\n",
            "\n",
            "           0       1.00      1.00      1.00      3366\n",
            "           1       0.99      0.96      0.97      3117\n",
            "           2       1.00      1.00      1.00      2694\n",
            "           3       0.99      0.98      0.99      1832\n",
            "           4       1.00      1.00      1.00      3544\n",
            "\n",
            "   micro avg       1.00      0.99      0.99     14553\n",
            "   macro avg       1.00      0.99      0.99     14553\n",
            "weighted avg       1.00      0.99      0.99     14553\n",
            " samples avg       0.96      0.95      0.95     14553\n",
            "\n",
            "Confusion matrix for Diabetes:\n",
            "[[2633    1]\n",
            " [   7 3359]]\n",
            "Confusion matrix for Anemia:\n",
            "[[2842   41]\n",
            " [ 140 2977]]\n",
            "Confusion matrix for Kidney Failure:\n",
            "[[3303    3]\n",
            " [   3 2691]]\n",
            "Confusion matrix for Liver Failure:\n",
            "[[4156   12]\n",
            " [  35 1797]]\n",
            "Confusion matrix for Ischimic Heart Disease:\n",
            "[[2451    5]\n",
            " [   8 3536]]\n"
          ]
        },
        {
          "name": "stderr",
          "output_type": "stream",
          "text": [
            "/usr/local/lib/python3.11/dist-packages/sklearn/metrics/_classification.py:1565: UndefinedMetricWarning: Precision is ill-defined and being set to 0.0 in samples with no predicted labels. Use `zero_division` parameter to control this behavior.\n",
            "  _warn_prf(average, modifier, f\"{metric.capitalize()} is\", len(result))\n",
            "/usr/local/lib/python3.11/dist-packages/sklearn/metrics/_classification.py:1565: UndefinedMetricWarning: Recall is ill-defined and being set to 0.0 in samples with no true labels. Use `zero_division` parameter to control this behavior.\n",
            "  _warn_prf(average, modifier, f\"{metric.capitalize()} is\", len(result))\n",
            "/usr/local/lib/python3.11/dist-packages/sklearn/metrics/_classification.py:1565: UndefinedMetricWarning: F-score is ill-defined and being set to 0.0 in samples with no true nor predicted labels. Use `zero_division` parameter to control this behavior.\n",
            "  _warn_prf(average, modifier, f\"{metric.capitalize()} is\", len(result))\n"
          ]
        }
      ],
      "source": [
        "# Already trained best model\n",
        "best_model = grid_search.best_estimator_\n",
        "\n",
        "y_train_pred = best_model.predict(X_train_scaled)\n",
        "training_accuracy = accuracy_score(y_train, y_train_pred)\n",
        "print(\"XGBoost Train Accuracy:\", training_accuracy)\n",
        "\n",
        "y_pred = best_model.predict(X_test_scaled)\n",
        "print(\"XGBoost Test Accuracy:\", accuracy_score(y_test, y_pred))\n",
        "print(classification_report(y_test, y_pred))\n",
        "\n",
        "# Confusion Matrices\n",
        "cm = multilabel_confusion_matrix(y_test, y_pred)\n",
        "for i, label in enumerate(target_columns):\n",
        "    print(f\"Confusion matrix for {label}:\")\n",
        "    print(cm[i])"
      ]
    },
    {
      "cell_type": "markdown",
      "id": "1d834686-38f4-4d1a-a918-96188e7a019c",
      "metadata": {
        "id": "1d834686-38f4-4d1a-a918-96188e7a019c"
      },
      "source": [
        "### **Neural Network**"
      ]
    },
    {
      "cell_type": "code",
      "execution_count": null,
      "id": "5ce9cb92-a9cd-45fa-92e6-1d514a6bc05a",
      "metadata": {
        "colab": {
          "base_uri": "https://localhost:8080/"
        },
        "id": "5ce9cb92-a9cd-45fa-92e6-1d514a6bc05a",
        "outputId": "eaeaae43-f989-491d-8655-60e87fee69f8"
      },
      "outputs": [
        {
          "name": "stderr",
          "output_type": "stream",
          "text": [
            "/usr/local/lib/python3.11/dist-packages/keras/src/layers/core/dense.py:87: UserWarning: Do not pass an `input_shape`/`input_dim` argument to a layer. When using Sequential models, prefer using an `Input(shape)` object as the first layer in the model instead.\n",
            "  super().__init__(activity_regularizer=activity_regularizer, **kwargs)\n"
          ]
        },
        {
          "name": "stdout",
          "output_type": "stream",
          "text": [
            "Epoch 1/100\n",
            "\u001b[1m300/300\u001b[0m \u001b[32m━━━━━━━━━━━━━━━━━━━━\u001b[0m\u001b[37m\u001b[0m \u001b[1m6s\u001b[0m 5ms/step - loss: 0.6692 - val_loss: 0.4067\n",
            "Epoch 2/100\n",
            "\u001b[1m300/300\u001b[0m \u001b[32m━━━━━━━━━━━━━━━━━━━━\u001b[0m\u001b[37m\u001b[0m \u001b[1m2s\u001b[0m 4ms/step - loss: 0.4162 - val_loss: 0.2743\n",
            "Epoch 3/100\n",
            "\u001b[1m300/300\u001b[0m \u001b[32m━━━━━━━━━━━━━━━━━━━━\u001b[0m\u001b[37m\u001b[0m \u001b[1m3s\u001b[0m 4ms/step - loss: 0.3433 - val_loss: 0.2429\n",
            "Epoch 4/100\n",
            "\u001b[1m300/300\u001b[0m \u001b[32m━━━━━━━━━━━━━━━━━━━━\u001b[0m\u001b[37m\u001b[0m \u001b[1m1s\u001b[0m 4ms/step - loss: 0.3120 - val_loss: 0.2289\n",
            "Epoch 5/100\n",
            "\u001b[1m300/300\u001b[0m \u001b[32m━━━━━━━━━━━━━━━━━━━━\u001b[0m\u001b[37m\u001b[0m \u001b[1m1s\u001b[0m 4ms/step - loss: 0.3003 - val_loss: 0.2183\n",
            "Epoch 6/100\n",
            "\u001b[1m300/300\u001b[0m \u001b[32m━━━━━━━━━━━━━━━━━━━━\u001b[0m\u001b[37m\u001b[0m \u001b[1m2s\u001b[0m 5ms/step - loss: 0.2859 - val_loss: 0.2101\n",
            "Epoch 7/100\n",
            "\u001b[1m300/300\u001b[0m \u001b[32m━━━━━━━━━━━━━━━━━━━━\u001b[0m\u001b[37m\u001b[0m \u001b[1m3s\u001b[0m 5ms/step - loss: 0.2728 - val_loss: 0.2042\n",
            "Epoch 8/100\n",
            "\u001b[1m300/300\u001b[0m \u001b[32m━━━━━━━━━━━━━━━━━━━━\u001b[0m\u001b[37m\u001b[0m \u001b[1m3s\u001b[0m 6ms/step - loss: 0.2666 - val_loss: 0.1975\n",
            "Epoch 9/100\n",
            "\u001b[1m300/300\u001b[0m \u001b[32m━━━━━━━━━━━━━━━━━━━━\u001b[0m\u001b[37m\u001b[0m \u001b[1m2s\u001b[0m 6ms/step - loss: 0.2585 - val_loss: 0.1926\n",
            "Epoch 10/100\n",
            "\u001b[1m300/300\u001b[0m \u001b[32m━━━━━━━━━━━━━━━━━━━━\u001b[0m\u001b[37m\u001b[0m \u001b[1m3s\u001b[0m 9ms/step - loss: 0.2490 - val_loss: 0.1886\n",
            "Epoch 11/100\n",
            "\u001b[1m300/300\u001b[0m \u001b[32m━━━━━━━━━━━━━━━━━━━━\u001b[0m\u001b[37m\u001b[0m \u001b[1m4s\u001b[0m 5ms/step - loss: 0.2418 - val_loss: 0.1829\n",
            "Epoch 12/100\n",
            "\u001b[1m300/300\u001b[0m \u001b[32m━━━━━━━━━━━━━━━━━━━━\u001b[0m\u001b[37m\u001b[0m \u001b[1m2s\u001b[0m 4ms/step - loss: 0.2348 - val_loss: 0.1800\n",
            "Epoch 13/100\n",
            "\u001b[1m300/300\u001b[0m \u001b[32m━━━━━━━━━━━━━━━━━━━━\u001b[0m\u001b[37m\u001b[0m \u001b[1m1s\u001b[0m 4ms/step - loss: 0.2321 - val_loss: 0.1750\n",
            "Epoch 14/100\n",
            "\u001b[1m300/300\u001b[0m \u001b[32m━━━━━━━━━━━━━━━━━━━━\u001b[0m\u001b[37m\u001b[0m \u001b[1m1s\u001b[0m 4ms/step - loss: 0.2267 - val_loss: 0.1714\n",
            "Epoch 15/100\n",
            "\u001b[1m300/300\u001b[0m \u001b[32m━━━━━━━━━━━━━━━━━━━━\u001b[0m\u001b[37m\u001b[0m \u001b[1m1s\u001b[0m 5ms/step - loss: 0.2220 - val_loss: 0.1662\n",
            "Epoch 16/100\n",
            "\u001b[1m300/300\u001b[0m \u001b[32m━━━━━━━━━━━━━━━━━━━━\u001b[0m\u001b[37m\u001b[0m \u001b[1m2s\u001b[0m 4ms/step - loss: 0.2121 - val_loss: 0.1609\n",
            "Epoch 17/100\n",
            "\u001b[1m300/300\u001b[0m \u001b[32m━━━━━━━━━━━━━━━━━━━━\u001b[0m\u001b[37m\u001b[0m \u001b[1m2s\u001b[0m 6ms/step - loss: 0.2119 - val_loss: 0.1577\n",
            "Epoch 18/100\n",
            "\u001b[1m300/300\u001b[0m \u001b[32m━━━━━━━━━━━━━━━━━━━━\u001b[0m\u001b[37m\u001b[0m \u001b[1m2s\u001b[0m 5ms/step - loss: 0.2094 - val_loss: 0.1559\n",
            "Epoch 19/100\n",
            "\u001b[1m300/300\u001b[0m \u001b[32m━━━━━━━━━━━━━━━━━━━━\u001b[0m\u001b[37m\u001b[0m \u001b[1m2s\u001b[0m 4ms/step - loss: 0.2073 - val_loss: 0.1526\n",
            "Epoch 20/100\n",
            "\u001b[1m300/300\u001b[0m \u001b[32m━━━━━━━━━━━━━━━━━━━━\u001b[0m\u001b[37m\u001b[0m \u001b[1m1s\u001b[0m 4ms/step - loss: 0.1989 - val_loss: 0.1524\n",
            "Epoch 21/100\n",
            "\u001b[1m300/300\u001b[0m \u001b[32m━━━━━━━━━━━━━━━━━━━━\u001b[0m\u001b[37m\u001b[0m \u001b[1m1s\u001b[0m 5ms/step - loss: 0.1971 - val_loss: 0.1461\n",
            "Epoch 22/100\n",
            "\u001b[1m300/300\u001b[0m \u001b[32m━━━━━━━━━━━━━━━━━━━━\u001b[0m\u001b[37m\u001b[0m \u001b[1m1s\u001b[0m 4ms/step - loss: 0.1944 - val_loss: 0.1423\n",
            "Epoch 23/100\n",
            "\u001b[1m300/300\u001b[0m \u001b[32m━━━━━━━━━━━━━━━━━━━━\u001b[0m\u001b[37m\u001b[0m \u001b[1m4s\u001b[0m 10ms/step - loss: 0.1887 - val_loss: 0.1412\n",
            "Epoch 24/100\n",
            "\u001b[1m300/300\u001b[0m \u001b[32m━━━━━━━━━━━━━━━━━━━━\u001b[0m\u001b[37m\u001b[0m \u001b[1m4s\u001b[0m 11ms/step - loss: 0.1887 - val_loss: 0.1385\n",
            "Epoch 25/100\n",
            "\u001b[1m300/300\u001b[0m \u001b[32m━━━━━━━━━━━━━━━━━━━━\u001b[0m\u001b[37m\u001b[0m \u001b[1m3s\u001b[0m 4ms/step - loss: 0.1865 - val_loss: 0.1364\n",
            "Epoch 26/100\n",
            "\u001b[1m300/300\u001b[0m \u001b[32m━━━━━━━━━━━━━━━━━━━━\u001b[0m\u001b[37m\u001b[0m \u001b[1m1s\u001b[0m 5ms/step - loss: 0.1820 - val_loss: 0.1340\n",
            "Epoch 27/100\n",
            "\u001b[1m300/300\u001b[0m \u001b[32m━━━━━━━━━━━━━━━━━━━━\u001b[0m\u001b[37m\u001b[0m \u001b[1m3s\u001b[0m 5ms/step - loss: 0.1821 - val_loss: 0.1309\n",
            "Epoch 28/100\n",
            "\u001b[1m300/300\u001b[0m \u001b[32m━━━━━━━━━━━━━━━━━━━━\u001b[0m\u001b[37m\u001b[0m \u001b[1m3s\u001b[0m 6ms/step - loss: 0.1777 - val_loss: 0.1306\n",
            "Epoch 29/100\n",
            "\u001b[1m300/300\u001b[0m \u001b[32m━━━━━━━━━━━━━━━━━━━━\u001b[0m\u001b[37m\u001b[0m \u001b[1m2s\u001b[0m 6ms/step - loss: 0.1759 - val_loss: 0.1303\n",
            "Epoch 30/100\n",
            "\u001b[1m300/300\u001b[0m \u001b[32m━━━━━━━━━━━━━━━━━━━━\u001b[0m\u001b[37m\u001b[0m \u001b[1m1s\u001b[0m 4ms/step - loss: 0.1750 - val_loss: 0.1258\n",
            "Epoch 31/100\n",
            "\u001b[1m300/300\u001b[0m \u001b[32m━━━━━━━━━━━━━━━━━━━━\u001b[0m\u001b[37m\u001b[0m \u001b[1m3s\u001b[0m 4ms/step - loss: 0.1718 - val_loss: 0.1266\n",
            "Epoch 32/100\n",
            "\u001b[1m300/300\u001b[0m \u001b[32m━━━━━━━━━━━━━━━━━━━━\u001b[0m\u001b[37m\u001b[0m \u001b[1m3s\u001b[0m 5ms/step - loss: 0.1711 - val_loss: 0.1232\n",
            "Epoch 33/100\n",
            "\u001b[1m300/300\u001b[0m \u001b[32m━━━━━━━━━━━━━━━━━━━━\u001b[0m\u001b[37m\u001b[0m \u001b[1m1s\u001b[0m 4ms/step - loss: 0.1681 - val_loss: 0.1224\n",
            "Epoch 34/100\n",
            "\u001b[1m300/300\u001b[0m \u001b[32m━━━━━━━━━━━━━━━━━━━━\u001b[0m\u001b[37m\u001b[0m \u001b[1m1s\u001b[0m 4ms/step - loss: 0.1698 - val_loss: 0.1213\n",
            "Epoch 35/100\n",
            "\u001b[1m300/300\u001b[0m \u001b[32m━━━━━━━━━━━━━━━━━━━━\u001b[0m\u001b[37m\u001b[0m \u001b[1m3s\u001b[0m 7ms/step - loss: 0.1708 - val_loss: 0.1200\n",
            "Epoch 36/100\n",
            "\u001b[1m300/300\u001b[0m \u001b[32m━━━━━━━━━━━━━━━━━━━━\u001b[0m\u001b[37m\u001b[0m \u001b[1m2s\u001b[0m 4ms/step - loss: 0.1647 - val_loss: 0.1169\n",
            "Epoch 37/100\n",
            "\u001b[1m300/300\u001b[0m \u001b[32m━━━━━━━━━━━━━━━━━━━━\u001b[0m\u001b[37m\u001b[0m \u001b[1m1s\u001b[0m 4ms/step - loss: 0.1625 - val_loss: 0.1167\n",
            "Epoch 38/100\n",
            "\u001b[1m300/300\u001b[0m \u001b[32m━━━━━━━━━━━━━━━━━━━━\u001b[0m\u001b[37m\u001b[0m \u001b[1m1s\u001b[0m 4ms/step - loss: 0.1632 - val_loss: 0.1145\n",
            "Epoch 39/100\n",
            "\u001b[1m300/300\u001b[0m \u001b[32m━━━━━━━━━━━━━━━━━━━━\u001b[0m\u001b[37m\u001b[0m \u001b[1m2s\u001b[0m 4ms/step - loss: 0.1650 - val_loss: 0.1132\n",
            "Epoch 40/100\n",
            "\u001b[1m300/300\u001b[0m \u001b[32m━━━━━━━━━━━━━━━━━━━━\u001b[0m\u001b[37m\u001b[0m \u001b[1m1s\u001b[0m 4ms/step - loss: 0.1611 - val_loss: 0.1143\n",
            "Epoch 41/100\n",
            "\u001b[1m300/300\u001b[0m \u001b[32m━━━━━━━━━━━━━━━━━━━━\u001b[0m\u001b[37m\u001b[0m \u001b[1m3s\u001b[0m 6ms/step - loss: 0.1599 - val_loss: 0.1121\n",
            "Epoch 42/100\n",
            "\u001b[1m300/300\u001b[0m \u001b[32m━━━━━━━━━━━━━━━━━━━━\u001b[0m\u001b[37m\u001b[0m \u001b[1m2s\u001b[0m 5ms/step - loss: 0.1560 - val_loss: 0.1128\n",
            "Epoch 43/100\n",
            "\u001b[1m300/300\u001b[0m \u001b[32m━━━━━━━━━━━━━━━━━━━━\u001b[0m\u001b[37m\u001b[0m \u001b[1m1s\u001b[0m 4ms/step - loss: 0.1572 - val_loss: 0.1095\n",
            "Epoch 44/100\n",
            "\u001b[1m300/300\u001b[0m \u001b[32m━━━━━━━━━━━━━━━━━━━━\u001b[0m\u001b[37m\u001b[0m \u001b[1m1s\u001b[0m 4ms/step - loss: 0.1563 - val_loss: 0.1124\n",
            "Epoch 45/100\n",
            "\u001b[1m300/300\u001b[0m \u001b[32m━━━━━━━━━━━━━━━━━━━━\u001b[0m\u001b[37m\u001b[0m \u001b[1m1s\u001b[0m 5ms/step - loss: 0.1552 - val_loss: 0.1126\n",
            "Epoch 46/100\n",
            "\u001b[1m300/300\u001b[0m \u001b[32m━━━━━━━━━━━━━━━━━━━━\u001b[0m\u001b[37m\u001b[0m \u001b[1m1s\u001b[0m 4ms/step - loss: 0.1523 - val_loss: 0.1072\n",
            "Epoch 47/100\n",
            "\u001b[1m300/300\u001b[0m \u001b[32m━━━━━━━━━━━━━━━━━━━━\u001b[0m\u001b[37m\u001b[0m \u001b[1m1s\u001b[0m 4ms/step - loss: 0.1523 - val_loss: 0.1078\n",
            "Epoch 48/100\n",
            "\u001b[1m300/300\u001b[0m \u001b[32m━━━━━━━━━━━━━━━━━━━━\u001b[0m\u001b[37m\u001b[0m \u001b[1m1s\u001b[0m 4ms/step - loss: 0.1471 - val_loss: 0.1069\n",
            "Epoch 49/100\n",
            "\u001b[1m300/300\u001b[0m \u001b[32m━━━━━━━━━━━━━━━━━━━━\u001b[0m\u001b[37m\u001b[0m \u001b[1m1s\u001b[0m 5ms/step - loss: 0.1492 - val_loss: 0.1074\n",
            "Epoch 50/100\n",
            "\u001b[1m300/300\u001b[0m \u001b[32m━━━━━━━━━━━━━━━━━━━━\u001b[0m\u001b[37m\u001b[0m \u001b[1m2s\u001b[0m 7ms/step - loss: 0.1506 - val_loss: 0.1086\n",
            "Epoch 51/100\n",
            "\u001b[1m300/300\u001b[0m \u001b[32m━━━━━━━━━━━━━━━━━━━━\u001b[0m\u001b[37m\u001b[0m \u001b[1m2s\u001b[0m 4ms/step - loss: 0.1532 - val_loss: 0.1075\n",
            "Epoch 52/100\n",
            "\u001b[1m300/300\u001b[0m \u001b[32m━━━━━━━━━━━━━━━━━━━━\u001b[0m\u001b[37m\u001b[0m \u001b[1m1s\u001b[0m 4ms/step - loss: 0.1502 - val_loss: 0.1056\n",
            "Epoch 53/100\n",
            "\u001b[1m300/300\u001b[0m \u001b[32m━━━━━━━━━━━━━━━━━━━━\u001b[0m\u001b[37m\u001b[0m \u001b[1m1s\u001b[0m 4ms/step - loss: 0.1474 - val_loss: 0.1026\n",
            "Epoch 54/100\n",
            "\u001b[1m300/300\u001b[0m \u001b[32m━━━━━━━━━━━━━━━━━━━━\u001b[0m\u001b[37m\u001b[0m \u001b[1m1s\u001b[0m 4ms/step - loss: 0.1504 - val_loss: 0.1011\n",
            "Epoch 55/100\n",
            "\u001b[1m300/300\u001b[0m \u001b[32m━━━━━━━━━━━━━━━━━━━━\u001b[0m\u001b[37m\u001b[0m \u001b[1m1s\u001b[0m 5ms/step - loss: 0.1431 - val_loss: 0.1032\n",
            "Epoch 56/100\n",
            "\u001b[1m300/300\u001b[0m \u001b[32m━━━━━━━━━━━━━━━━━━━━\u001b[0m\u001b[37m\u001b[0m \u001b[1m1s\u001b[0m 4ms/step - loss: 0.1455 - val_loss: 0.1014\n",
            "Epoch 57/100\n",
            "\u001b[1m300/300\u001b[0m \u001b[32m━━━━━━━━━━━━━━━━━━━━\u001b[0m\u001b[37m\u001b[0m \u001b[1m1s\u001b[0m 4ms/step - loss: 0.1441 - val_loss: 0.1005\n",
            "Epoch 58/100\n",
            "\u001b[1m300/300\u001b[0m \u001b[32m━━━━━━━━━━━━━━━━━━━━\u001b[0m\u001b[37m\u001b[0m \u001b[1m2s\u001b[0m 5ms/step - loss: 0.1433 - val_loss: 0.1015\n",
            "Epoch 59/100\n",
            "\u001b[1m300/300\u001b[0m \u001b[32m━━━━━━━━━━━━━━━━━━━━\u001b[0m\u001b[37m\u001b[0m \u001b[1m2s\u001b[0m 7ms/step - loss: 0.1461 - val_loss: 0.1009\n",
            "Epoch 60/100\n",
            "\u001b[1m300/300\u001b[0m \u001b[32m━━━━━━━━━━━━━━━━━━━━\u001b[0m\u001b[37m\u001b[0m \u001b[1m2s\u001b[0m 4ms/step - loss: 0.1420 - val_loss: 0.0993\n",
            "Epoch 61/100\n",
            "\u001b[1m300/300\u001b[0m \u001b[32m━━━━━━━━━━━━━━━━━━━━\u001b[0m\u001b[37m\u001b[0m \u001b[1m1s\u001b[0m 4ms/step - loss: 0.1433 - val_loss: 0.1004\n",
            "Epoch 62/100\n",
            "\u001b[1m300/300\u001b[0m \u001b[32m━━━━━━━━━━━━━━━━━━━━\u001b[0m\u001b[37m\u001b[0m \u001b[1m1s\u001b[0m 5ms/step - loss: 0.1426 - val_loss: 0.0993\n",
            "Epoch 63/100\n",
            "\u001b[1m300/300\u001b[0m \u001b[32m━━━━━━━━━━━━━━━━━━━━\u001b[0m\u001b[37m\u001b[0m \u001b[1m2s\u001b[0m 4ms/step - loss: 0.1423 - val_loss: 0.0994\n",
            "Epoch 64/100\n",
            "\u001b[1m300/300\u001b[0m \u001b[32m━━━━━━━━━━━━━━━━━━━━\u001b[0m\u001b[37m\u001b[0m \u001b[1m1s\u001b[0m 4ms/step - loss: 0.1437 - val_loss: 0.0992\n",
            "Epoch 65/100\n",
            "\u001b[1m300/300\u001b[0m \u001b[32m━━━━━━━━━━━━━━━━━━━━\u001b[0m\u001b[37m\u001b[0m \u001b[1m1s\u001b[0m 4ms/step - loss: 0.1384 - val_loss: 0.0988\n",
            "Epoch 66/100\n",
            "\u001b[1m300/300\u001b[0m \u001b[32m━━━━━━━━━━━━━━━━━━━━\u001b[0m\u001b[37m\u001b[0m \u001b[1m3s\u001b[0m 7ms/step - loss: 0.1409 - val_loss: 0.0974\n",
            "Epoch 67/100\n",
            "\u001b[1m300/300\u001b[0m \u001b[32m━━━━━━━━━━━━━━━━━━━━\u001b[0m\u001b[37m\u001b[0m \u001b[1m2s\u001b[0m 4ms/step - loss: 0.1378 - val_loss: 0.0976\n",
            "Epoch 68/100\n",
            "\u001b[1m300/300\u001b[0m \u001b[32m━━━━━━━━━━━━━━━━━━━━\u001b[0m\u001b[37m\u001b[0m \u001b[1m1s\u001b[0m 5ms/step - loss: 0.1404 - val_loss: 0.0957\n",
            "Epoch 69/100\n",
            "\u001b[1m300/300\u001b[0m \u001b[32m━━━━━━━━━━━━━━━━━━━━\u001b[0m\u001b[37m\u001b[0m \u001b[1m3s\u001b[0m 7ms/step - loss: 0.1411 - val_loss: 0.1001\n",
            "Epoch 70/100\n",
            "\u001b[1m300/300\u001b[0m \u001b[32m━━━━━━━━━━━━━━━━━━━━\u001b[0m\u001b[37m\u001b[0m \u001b[1m1s\u001b[0m 5ms/step - loss: 0.1385 - val_loss: 0.0946\n",
            "Epoch 71/100\n",
            "\u001b[1m300/300\u001b[0m \u001b[32m━━━━━━━━━━━━━━━━━━━━\u001b[0m\u001b[37m\u001b[0m \u001b[1m3s\u001b[0m 5ms/step - loss: 0.1378 - val_loss: 0.0947\n",
            "Epoch 72/100\n",
            "\u001b[1m300/300\u001b[0m \u001b[32m━━━━━━━━━━━━━━━━━━━━\u001b[0m\u001b[37m\u001b[0m \u001b[1m2s\u001b[0m 7ms/step - loss: 0.1405 - val_loss: 0.0943\n",
            "Epoch 73/100\n",
            "\u001b[1m300/300\u001b[0m \u001b[32m━━━━━━━━━━━━━━━━━━━━\u001b[0m\u001b[37m\u001b[0m \u001b[1m2s\u001b[0m 5ms/step - loss: 0.1359 - val_loss: 0.0982\n",
            "Epoch 74/100\n",
            "\u001b[1m300/300\u001b[0m \u001b[32m━━━━━━━━━━━━━━━━━━━━\u001b[0m\u001b[37m\u001b[0m \u001b[1m1s\u001b[0m 4ms/step - loss: 0.1360 - val_loss: 0.0941\n",
            "Epoch 75/100\n",
            "\u001b[1m300/300\u001b[0m \u001b[32m━━━━━━━━━━━━━━━━━━━━\u001b[0m\u001b[37m\u001b[0m \u001b[1m1s\u001b[0m 4ms/step - loss: 0.1349 - val_loss: 0.0918\n",
            "Epoch 76/100\n",
            "\u001b[1m300/300\u001b[0m \u001b[32m━━━━━━━━━━━━━━━━━━━━\u001b[0m\u001b[37m\u001b[0m \u001b[1m1s\u001b[0m 4ms/step - loss: 0.1352 - val_loss: 0.0934\n",
            "Epoch 77/100\n",
            "\u001b[1m300/300\u001b[0m \u001b[32m━━━━━━━━━━━━━━━━━━━━\u001b[0m\u001b[37m\u001b[0m \u001b[1m3s\u001b[0m 4ms/step - loss: 0.1344 - val_loss: 0.0910\n",
            "Epoch 78/100\n",
            "\u001b[1m300/300\u001b[0m \u001b[32m━━━━━━━━━━━━━━━━━━━━\u001b[0m\u001b[37m\u001b[0m \u001b[1m1s\u001b[0m 4ms/step - loss: 0.1331 - val_loss: 0.0916\n",
            "Epoch 79/100\n",
            "\u001b[1m300/300\u001b[0m \u001b[32m━━━━━━━━━━━━━━━━━━━━\u001b[0m\u001b[37m\u001b[0m \u001b[1m2s\u001b[0m 6ms/step - loss: 0.1325 - val_loss: 0.0922\n",
            "Epoch 80/100\n",
            "\u001b[1m300/300\u001b[0m \u001b[32m━━━━━━━━━━━━━━━━━━━━\u001b[0m\u001b[37m\u001b[0m \u001b[1m2s\u001b[0m 5ms/step - loss: 0.1342 - val_loss: 0.0922\n",
            "Epoch 81/100\n",
            "\u001b[1m300/300\u001b[0m \u001b[32m━━━━━━━━━━━━━━━━━━━━\u001b[0m\u001b[37m\u001b[0m \u001b[1m2s\u001b[0m 5ms/step - loss: 0.1324 - val_loss: 0.0909\n",
            "Epoch 82/100\n",
            "\u001b[1m300/300\u001b[0m \u001b[32m━━━━━━━━━━━━━━━━━━━━\u001b[0m\u001b[37m\u001b[0m \u001b[1m3s\u001b[0m 5ms/step - loss: 0.1333 - val_loss: 0.0922\n",
            "Epoch 83/100\n",
            "\u001b[1m300/300\u001b[0m \u001b[32m━━━━━━━━━━━━━━━━━━━━\u001b[0m\u001b[37m\u001b[0m \u001b[1m2s\u001b[0m 4ms/step - loss: 0.1314 - val_loss: 0.0900\n",
            "Epoch 84/100\n",
            "\u001b[1m300/300\u001b[0m \u001b[32m━━━━━━━━━━━━━━━━━━━━\u001b[0m\u001b[37m\u001b[0m \u001b[1m1s\u001b[0m 4ms/step - loss: 0.1294 - val_loss: 0.0885\n",
            "Epoch 85/100\n",
            "\u001b[1m300/300\u001b[0m \u001b[32m━━━━━━━━━━━━━━━━━━━━\u001b[0m\u001b[37m\u001b[0m \u001b[1m2s\u001b[0m 7ms/step - loss: 0.1298 - val_loss: 0.0898\n",
            "Epoch 86/100\n",
            "\u001b[1m300/300\u001b[0m \u001b[32m━━━━━━━━━━━━━━━━━━━━\u001b[0m\u001b[37m\u001b[0m \u001b[1m2s\u001b[0m 5ms/step - loss: 0.1296 - val_loss: 0.0887\n",
            "Epoch 87/100\n",
            "\u001b[1m300/300\u001b[0m \u001b[32m━━━━━━━━━━━━━━━━━━━━\u001b[0m\u001b[37m\u001b[0m \u001b[1m2s\u001b[0m 4ms/step - loss: 0.1318 - val_loss: 0.0874\n",
            "Epoch 88/100\n",
            "\u001b[1m300/300\u001b[0m \u001b[32m━━━━━━━━━━━━━━━━━━━━\u001b[0m\u001b[37m\u001b[0m \u001b[1m1s\u001b[0m 4ms/step - loss: 0.1307 - val_loss: 0.0879\n",
            "Epoch 89/100\n",
            "\u001b[1m300/300\u001b[0m \u001b[32m━━━━━━━━━━━━━━━━━━━━\u001b[0m\u001b[37m\u001b[0m \u001b[1m1s\u001b[0m 4ms/step - loss: 0.1286 - val_loss: 0.0898\n",
            "Epoch 90/100\n",
            "\u001b[1m300/300\u001b[0m \u001b[32m━━━━━━━━━━━━━━━━━━━━\u001b[0m\u001b[37m\u001b[0m \u001b[1m1s\u001b[0m 4ms/step - loss: 0.1301 - val_loss: 0.0871\n",
            "Epoch 91/100\n",
            "\u001b[1m300/300\u001b[0m \u001b[32m━━━━━━━━━━━━━━━━━━━━\u001b[0m\u001b[37m\u001b[0m \u001b[1m1s\u001b[0m 4ms/step - loss: 0.1276 - val_loss: 0.0868\n",
            "Epoch 92/100\n",
            "\u001b[1m300/300\u001b[0m \u001b[32m━━━━━━━━━━━━━━━━━━━━\u001b[0m\u001b[37m\u001b[0m \u001b[1m3s\u001b[0m 7ms/step - loss: 0.1268 - val_loss: 0.0871\n",
            "Epoch 93/100\n",
            "\u001b[1m300/300\u001b[0m \u001b[32m━━━━━━━━━━━━━━━━━━━━\u001b[0m\u001b[37m\u001b[0m \u001b[1m2s\u001b[0m 5ms/step - loss: 0.1268 - val_loss: 0.0864\n",
            "Epoch 94/100\n",
            "\u001b[1m300/300\u001b[0m \u001b[32m━━━━━━━━━━━━━━━━━━━━\u001b[0m\u001b[37m\u001b[0m \u001b[1m1s\u001b[0m 4ms/step - loss: 0.1278 - val_loss: 0.0835\n",
            "Epoch 95/100\n",
            "\u001b[1m300/300\u001b[0m \u001b[32m━━━━━━━━━━━━━━━━━━━━\u001b[0m\u001b[37m\u001b[0m \u001b[1m1s\u001b[0m 4ms/step - loss: 0.1239 - val_loss: 0.0852\n",
            "Epoch 96/100\n",
            "\u001b[1m300/300\u001b[0m \u001b[32m━━━━━━━━━━━━━━━━━━━━\u001b[0m\u001b[37m\u001b[0m \u001b[1m1s\u001b[0m 4ms/step - loss: 0.1266 - val_loss: 0.0864\n",
            "Epoch 97/100\n",
            "\u001b[1m300/300\u001b[0m \u001b[32m━━━━━━━━━━━━━━━━━━━━\u001b[0m\u001b[37m\u001b[0m \u001b[1m1s\u001b[0m 4ms/step - loss: 0.1277 - val_loss: 0.0832\n",
            "Epoch 98/100\n",
            "\u001b[1m300/300\u001b[0m \u001b[32m━━━━━━━━━━━━━━━━━━━━\u001b[0m\u001b[37m\u001b[0m \u001b[1m1s\u001b[0m 4ms/step - loss: 0.1245 - val_loss: 0.0835\n",
            "Epoch 99/100\n",
            "\u001b[1m300/300\u001b[0m \u001b[32m━━━━━━━━━━━━━━━━━━━━\u001b[0m\u001b[37m\u001b[0m \u001b[1m1s\u001b[0m 4ms/step - loss: 0.1253 - val_loss: 0.0858\n",
            "Epoch 100/100\n",
            "\u001b[1m300/300\u001b[0m \u001b[32m━━━━━━━━━━━━━━━━━━━━\u001b[0m\u001b[37m\u001b[0m \u001b[1m1s\u001b[0m 4ms/step - loss: 0.1248 - val_loss: 0.0837\n",
            "\u001b[1m750/750\u001b[0m \u001b[32m━━━━━━━━━━━━━━━━━━━━\u001b[0m\u001b[37m\u001b[0m \u001b[1m2s\u001b[0m 2ms/step\n",
            "\u001b[1m188/188\u001b[0m \u001b[32m━━━━━━━━━━━━━━━━━━━━\u001b[0m\u001b[37m\u001b[0m \u001b[1m0s\u001b[0m 2ms/step\n"
          ]
        }
      ],
      "source": [
        "model = Sequential([\n",
        "    Dense(128, activation='relu', input_shape=(X_train.shape[1],)),\n",
        "    BatchNormalization(),\n",
        "    Dropout(0.3),\n",
        "\n",
        "    Dense(96, activation='relu'),\n",
        "    BatchNormalization(),\n",
        "    Dropout(0.25),\n",
        "\n",
        "    Dense(64, activation='relu'),\n",
        "    BatchNormalization(),\n",
        "    Dropout(0.2),\n",
        "\n",
        "    Dense(32, activation='relu'),\n",
        "    BatchNormalization(),\n",
        "\n",
        "    # Output layer for 5 classes (multi-label classification)\n",
        "    Dense(5, activation='sigmoid')\n",
        "])\n",
        "\n",
        "model.compile(\n",
        "    optimizer=Adam(learning_rate=0.0005),\n",
        "    loss='binary_crossentropy',\n",
        ")\n",
        "\n",
        "early_stop = EarlyStopping(\n",
        "    monitor='val_loss',\n",
        "    patience=10,\n",
        "    restore_best_weights=True,\n",
        "    min_delta=0.001  # Minimum change to qualify as improvement\n",
        ")\n",
        "\n",
        "# Train Model with larger batch size\n",
        "history = model.fit(\n",
        "    X_train, y_train,\n",
        "    validation_split=0.2,\n",
        "    epochs=100,\n",
        "    batch_size=64,\n",
        "    callbacks=[early_stop],\n",
        "    verbose=1\n",
        ")\n",
        "\n",
        "# Threshold predictions at 0.5 for multi-label classification\n",
        "y_pred_train = (model.predict(X_train) > 0.5).astype(int)\n",
        "y_pred_test = (model.predict(X_test) > 0.5).astype(int)"
      ]
    },
    {
      "cell_type": "markdown",
      "id": "4af79b7c",
      "metadata": {
        "id": "4af79b7c"
      },
      "source": [
        "Evaluation"
      ]
    },
    {
      "cell_type": "code",
      "execution_count": null,
      "id": "3a68ed8b",
      "metadata": {
        "colab": {
          "base_uri": "https://localhost:8080/"
        },
        "id": "3a68ed8b",
        "outputId": "1df7aac3-5645-40fc-80a2-877853266bb8"
      },
      "outputs": [
        {
          "name": "stdout",
          "output_type": "stream",
          "text": [
            "\n",
            "Overall Accuracy Scores:\n",
            "Train Accuracy: 0.8484583333333333\n",
            "Test Accuracy: 0.8243333333333334\n",
            "\n",
            "Per-Condition Classification Reports:\n",
            "\n",
            "Diabetes:\n",
            "              precision    recall  f1-score   support\n",
            "\n",
            "           0       1.00      1.00      1.00      2634\n",
            "           1       1.00      1.00      1.00      3366\n",
            "\n",
            "    accuracy                           1.00      6000\n",
            "   macro avg       1.00      1.00      1.00      6000\n",
            "weighted avg       1.00      1.00      1.00      6000\n",
            "\n",
            "Confusion Matrix:\n",
            "[[2632    2]\n",
            " [  13 3353]]\n",
            "\n",
            "Anemia:\n",
            "              precision    recall  f1-score   support\n",
            "\n",
            "           0       0.92      0.92      0.92      2883\n",
            "           1       0.92      0.92      0.92      3117\n",
            "\n",
            "    accuracy                           0.92      6000\n",
            "   macro avg       0.92      0.92      0.92      6000\n",
            "weighted avg       0.92      0.92      0.92      6000\n",
            "\n",
            "Confusion Matrix:\n",
            "[[2639  244]\n",
            " [ 242 2875]]\n",
            "\n",
            "Kidney Failure:\n",
            "              precision    recall  f1-score   support\n",
            "\n",
            "           0       0.97      0.97      0.97      3306\n",
            "           1       0.97      0.97      0.97      2694\n",
            "\n",
            "    accuracy                           0.97      6000\n",
            "   macro avg       0.97      0.97      0.97      6000\n",
            "weighted avg       0.97      0.97      0.97      6000\n",
            "\n",
            "Confusion Matrix:\n",
            "[[3217   89]\n",
            " [  86 2608]]\n",
            "\n",
            "Liver Failure:\n",
            "              precision    recall  f1-score   support\n",
            "\n",
            "           0       0.97      0.98      0.97      4168\n",
            "           1       0.94      0.94      0.94      1832\n",
            "\n",
            "    accuracy                           0.96      6000\n",
            "   macro avg       0.96      0.96      0.96      6000\n",
            "weighted avg       0.96      0.96      0.96      6000\n",
            "\n",
            "Confusion Matrix:\n",
            "[[4064  104]\n",
            " [ 110 1722]]\n",
            "\n",
            "Ischemic Heart Disease:\n",
            "              precision    recall  f1-score   support\n",
            "\n",
            "           0       0.94      0.96      0.95      2456\n",
            "           1       0.97      0.95      0.96      3544\n",
            "\n",
            "    accuracy                           0.96      6000\n",
            "   macro avg       0.96      0.96      0.96      6000\n",
            "weighted avg       0.96      0.96      0.96      6000\n",
            "\n",
            "Confusion Matrix:\n",
            "[[2367   89]\n",
            " [ 160 3384]]\n"
          ]
        }
      ],
      "source": [
        "# Convert predictions and true labels to numpy arrays if they aren't already\n",
        "y_test_np = y_test.values if hasattr(y_test, 'values') else y_test\n",
        "y_pred_test_np = y_pred_test.values if hasattr(y_pred_test, 'values') else y_pred_test\n",
        "\n",
        "# Evaluation metrics for each condition\n",
        "conditions = ['Diabetes', 'Anemia', 'Kidney Failure', 'Liver Failure', 'Ischemic Heart Disease']\n",
        "\n",
        "print(\"\\nOverall Accuracy Scores:\")\n",
        "print(\"Train Accuracy:\", accuracy_score(y_train, y_pred_train))\n",
        "print(\"Test Accuracy:\", accuracy_score(y_test_np, y_pred_test_np))\n",
        "\n",
        "print(\"\\nPer-Condition Classification Reports:\")\n",
        "for i, condition in enumerate(conditions):\n",
        "    print(f\"\\n{condition}:\")\n",
        "    print(classification_report(y_test_np[:, i], y_pred_test_np[:, i]))\n",
        "    print(\"Confusion Matrix:\")\n",
        "    print(confusion_matrix(y_test_np[:, i], y_pred_test_np[:, i]))"
      ]
    },
    {
      "cell_type": "markdown",
      "id": "53f7e79d",
      "metadata": {
        "id": "53f7e79d"
      },
      "source": [
        "#### **Models Comparison**"
      ]
    },
    {
      "cell_type": "code",
      "execution_count": null,
      "id": "76b83519",
      "metadata": {
        "colab": {
          "base_uri": "https://localhost:8080/",
          "height": 1000
        },
        "id": "76b83519",
        "outputId": "0f1f17d9-d9aa-4806-d174-554957664e5b"
      },
      "outputs": [
        {
          "name": "stderr",
          "output_type": "stream",
          "text": [
            "/usr/local/lib/python3.11/dist-packages/sklearn/metrics/_classification.py:1565: UndefinedMetricWarning: Precision is ill-defined and being set to 0.0 in samples with no predicted labels. Use `zero_division` parameter to control this behavior.\n",
            "  _warn_prf(average, modifier, f\"{metric.capitalize()} is\", len(result))\n",
            "/usr/local/lib/python3.11/dist-packages/sklearn/metrics/_classification.py:1565: UndefinedMetricWarning: Recall is ill-defined and being set to 0.0 in samples with no true labels. Use `zero_division` parameter to control this behavior.\n",
            "  _warn_prf(average, modifier, f\"{metric.capitalize()} is\", len(result))\n",
            "/usr/local/lib/python3.11/dist-packages/sklearn/metrics/_classification.py:1565: UndefinedMetricWarning: F-score is ill-defined and being set to 0.0 in samples with no true nor predicted labels. Use `zero_division` parameter to control this behavior.\n",
            "  _warn_prf(average, modifier, f\"{metric.capitalize()} is\", len(result))\n",
            "/usr/local/lib/python3.11/dist-packages/sklearn/metrics/_classification.py:1565: UndefinedMetricWarning: Precision is ill-defined and being set to 0.0 in samples with no predicted labels. Use `zero_division` parameter to control this behavior.\n",
            "  _warn_prf(average, modifier, f\"{metric.capitalize()} is\", len(result))\n",
            "/usr/local/lib/python3.11/dist-packages/sklearn/metrics/_classification.py:1565: UndefinedMetricWarning: Recall is ill-defined and being set to 0.0 in samples with no true labels. Use `zero_division` parameter to control this behavior.\n",
            "  _warn_prf(average, modifier, f\"{metric.capitalize()} is\", len(result))\n",
            "/usr/local/lib/python3.11/dist-packages/sklearn/metrics/_classification.py:1565: UndefinedMetricWarning: F-score is ill-defined and being set to 0.0 in samples with no true nor predicted labels. Use `zero_division` parameter to control this behavior.\n",
            "  _warn_prf(average, modifier, f\"{metric.capitalize()} is\", len(result))\n"
          ]
        },
        {
          "data": {
            "image/png": "[encoded data removed]",
            "text/plain": [
              "<Figure size 1200x600 with 1 Axes>"
            ]
          },
          "metadata": {},
          "output_type": "display_data"
        },
        {
          "data": {
            "image/png": "[encoded data removed]",
            "text/plain": [
              "<Figure size 1500x1000 with 5 Axes>"
            ]
          },
          "metadata": {},
          "output_type": "display_data"
        }
      ],
      "source": [
        "# Prepare the data\n",
        "model_names = ['XGBoost', 'Neural Network']\n",
        "metrics = ['Accuracy', 'Precision', 'Recall', 'F1-Score']\n",
        "\n",
        "# Calculate metrics for XGBoost (from your code)\n",
        "xgboost_report = classification_report(y_test, y_pred, output_dict=True)\n",
        "xgboost_metrics = [\n",
        "    accuracy_score(y_test, y_pred),\n",
        "    xgboost_report['weighted avg']['precision'],\n",
        "    xgboost_report['weighted avg']['recall'],\n",
        "    xgboost_report['weighted avg']['f1-score']\n",
        "]\n",
        "\n",
        "# Calculate metrics for Neural Network (from your code)\n",
        "nn_report = classification_report(y_test_np, y_pred_test_np, output_dict=True)\n",
        "nn_metrics = [\n",
        "    accuracy_score(y_test_np, y_pred_test_np),\n",
        "    nn_report['weighted avg']['precision'],\n",
        "    nn_report['weighted avg']['recall'],\n",
        "    nn_report['weighted avg']['f1-score']\n",
        "]\n",
        "\n",
        "# Create the comparison plot\n",
        "plt.figure(figsize=(12, 6))\n",
        "x = np.arange(len(metrics))\n",
        "width = 0.35\n",
        "\n",
        "plt.bar(x - width/2, xgboost_metrics, width, label='XGBoost', color='skyblue')\n",
        "plt.bar(x + width/2, nn_metrics, width, label='Neural Network', color='salmon')\n",
        "\n",
        "plt.xlabel('Metrics')\n",
        "plt.ylabel('Score')\n",
        "plt.title('Model Performance Comparison')\n",
        "plt.xticks(x, metrics)\n",
        "plt.legend()\n",
        "plt.grid(True, axis='y', linestyle='--', alpha=0.7)\n",
        "\n",
        "# Add values on top of bars\n",
        "for i in range(len(metrics)):\n",
        "    plt.text(i - width/2, xgboost_metrics[i] + 0.01, f'{xgboost_metrics[i]:.3f}',\n",
        "             ha='center', va='bottom')\n",
        "    plt.text(i + width/2, nn_metrics[i] + 0.01, f'{nn_metrics[i]:.3f}',\n",
        "             ha='center', va='bottom')\n",
        "\n",
        "plt.ylim(0, 1.1)\n",
        "plt.tight_layout()\n",
        "plt.show()\n",
        "\n",
        "# Condition-specific comparison\n",
        "conditions = ['Diabetes', 'Anemia', 'Kidney Failure', 'Liver Failure', 'Ischemic Heart Disease']\n",
        "metrics = ['Accuracy', 'Precision', 'Recall', 'F1-Score']\n",
        "\n",
        "plt.figure(figsize=(15, 10))\n",
        "for i, condition in enumerate(conditions):\n",
        "    # Get XGBoost metrics for this condition\n",
        "    xg_cond_report = classification_report(y_test.iloc[:, i], y_pred[:, i], output_dict=True)\n",
        "    xg_cond_metrics = [\n",
        "        accuracy_score(y_test.iloc[:, i], y_pred[:, i]),\n",
        "        xg_cond_report['weighted avg']['precision'],\n",
        "        xg_cond_report['weighted avg']['recall'],\n",
        "        xg_cond_report['weighted avg']['f1-score']\n",
        "    ]\n",
        "\n",
        "    # Get Neural Network metrics for this condition\n",
        "    nn_cond_report = classification_report(y_test_np[:, i], y_pred_test_np[:, i], output_dict=True)\n",
        "    nn_cond_metrics = [\n",
        "        accuracy_score(y_test_np[:, i], y_pred_test_np[:, i]),\n",
        "        nn_cond_report['weighted avg']['precision'],\n",
        "        nn_cond_report['weighted avg']['recall'],\n",
        "        nn_cond_report['weighted avg']['f1-score']\n",
        "    ]\n",
        "\n",
        "    plt.subplot(2, 3, i+1)\n",
        "    x = np.arange(len(metrics))\n",
        "    width = 0.35\n",
        "\n",
        "    plt.bar(x - width/2, xg_cond_metrics, width, label='XGBoost', color='skyblue')\n",
        "    plt.bar(x + width/2, nn_cond_metrics, width, label='Neural Network', color='salmon')\n",
        "\n",
        "    plt.title(condition)\n",
        "    plt.xticks(x, metrics, rotation=45)\n",
        "    plt.ylim(0.7, 1.05)\n",
        "    plt.grid(True, axis='y', linestyle='--', alpha=0.7)\n",
        "\n",
        "    if i == 0:\n",
        "        plt.legend()\n",
        "\n",
        "plt.tight_layout()\n",
        "plt.suptitle('Model Performance by Medical Condition', y=1.02)\n",
        "plt.show()"
      ]
    },
    {
      "cell_type": "markdown",
      "id": "7027c042-e56c-477f-81fe-20699c1aaed0",
      "metadata": {
        "id": "7027c042-e56c-477f-81fe-20699c1aaed0"
      },
      "source": [
        "# **---------------- Progression ----------------**"
      ]
    },
    {
      "cell_type": "code",
      "execution_count": null,
      "id": "cd1711b9",
      "metadata": {
        "colab": {
          "base_uri": "https://localhost:8080/"
        },
        "id": "cd1711b9",
        "outputId": "cd71ebb4-bb32-4fd8-ad75-abedc965bb5d"
      },
      "outputs": [
        {
          "name": "stderr",
          "output_type": "stream",
          "text": [
            "2025-05-08 15:09:19,847 - INFO - All libraries for Progression imported successfully.\n"
          ]
        }
      ],
      "source": [
        "import pandas as pd\n",
        "import numpy as np\n",
        "import seaborn as sns\n",
        "import matplotlib.pyplot as plt\n",
        "from sklearn.metrics import mean_squared_error, accuracy_score, classification_report, roc_curve, auc, confusion_matrix\n",
        "from xgboost import XGBRegressor, XGBClassifier\n",
        "from sklearn.linear_model import Ridge\n",
        "from sklearn.metrics import mean_squared_error, r2_score\n",
        "from xgboost import XGBRegressor\n",
        "import tensorflow as tf\n",
        "from tensorflow.keras.models import Sequential\n",
        "from tensorflow.keras.layers import Dense, Dropout, BatchNormalization\n",
        "from tensorflow.keras.optimizers import Adam\n",
        "from tensorflow.keras.callbacks import EarlyStopping\n",
        "\n",
        "logger.info(\"All libraries for Progression imported successfully.\")"
      ]
    },
    {
      "cell_type": "markdown",
      "id": "6363d72b-4472-4190-af79-53dd5456c7ea",
      "metadata": {
        "id": "6363d72b-4472-4190-af79-53dd5456c7ea"
      },
      "source": [
        "## **Anemia_progression**"
      ]
    },
    {
      "cell_type": "markdown",
      "id": "cddfdd5a-e5fb-4691-9d98-bdabfb63c44b",
      "metadata": {
        "id": "cddfdd5a-e5fb-4691-9d98-bdabfb63c44b"
      },
      "source": [
        "### **Model Building**"
      ]
    },
    {
      "cell_type": "code",
      "execution_count": null,
      "id": "ba7ece8a",
      "metadata": {
        "id": "ba7ece8a"
      },
      "outputs": [],
      "source": [
        "# Store models and results to compare later\n",
        "models = {}\n",
        "results = {}"
      ]
    },
    {
      "cell_type": "markdown",
      "id": "81b4177d",
      "metadata": {
        "id": "81b4177d"
      },
      "source": [
        "1. **Linear Regression with ridge regularization**"
      ]
    },
    {
      "cell_type": "code",
      "execution_count": null,
      "id": "faff2eda",
      "metadata": {
        "colab": {
          "base_uri": "https://localhost:8080/"
        },
        "id": "faff2eda",
        "outputId": "42e3c1c4-1b1b-409c-e9ff-c17248d24ee4"
      },
      "outputs": [
        {
          "name": "stderr",
          "output_type": "stream",
          "text": [
            "2025-05-08 15:56:51,055 - INFO - Ridge Regression evaluation complete. RMSE: 19.9749, R2: 0.5349, Best Params: {'alpha': 0.1}\n"
          ]
        }
      ],
      "source": [
        "# 1. Ridge Regression\n",
        "ridge = Ridge()\n",
        "ridge_params = {\n",
        "    'alpha': [0.01, 0.1, 1, 10, 100]\n",
        "}\n",
        "ridge_grid = GridSearchCV(ridge, ridge_params, cv=5, scoring='neg_mean_squared_error')\n",
        "ridge_grid.fit(X_train, y_train)\n",
        "y_pred_ridge = ridge_grid.predict(X_test)\n",
        "\n",
        "models['Ridge'] = ridge_grid.best_estimator_\n",
        "results['Ridge'] = {\n",
        "    'RMSE': np.sqrt(mean_squared_error(y_test, y_pred_ridge)),\n",
        "    'R2': r2_score(y_test, y_pred_ridge),\n",
        "    'Params': ridge_grid.best_params_\n",
        "}\n",
        "logger.info(f\"Ridge Regression evaluation complete. RMSE: {results['Ridge']['RMSE']:.4f}, R2: {results['Ridge']['R2']:.4f}, Best Params: {results['Ridge']['Params']}\")\n"
      ]
    },
    {
      "cell_type": "markdown",
      "id": "4dca4cb5",
      "metadata": {
        "id": "4dca4cb5"
      },
      "source": [
        "2. **Neural Network**"
      ]
    },
    {
      "cell_type": "code",
      "execution_count": null,
      "id": "26adfd87",
      "metadata": {
        "colab": {
          "base_uri": "https://localhost:8080/"
        },
        "id": "26adfd87",
        "outputId": "d28139b8-4b3b-4dcb-d779-83a5ffa12b5a"
      },
      "outputs": [
        {
          "name": "stdout",
          "output_type": "stream",
          "text": [
            "Epoch 1/50\n"
          ]
        },
        {
          "name": "stderr",
          "output_type": "stream",
          "text": [
            "/usr/local/lib/python3.11/dist-packages/keras/src/layers/core/dense.py:87: UserWarning: Do not pass an `input_shape`/`input_dim` argument to a layer. When using Sequential models, prefer using an `Input(shape)` object as the first layer in the model instead.\n",
            "  super().__init__(activity_regularizer=activity_regularizer, **kwargs)\n"
          ]
        },
        {
          "name": "stdout",
          "output_type": "stream",
          "text": [
            "\u001b[1m400/400\u001b[0m \u001b[32m━━━━━━━━━━━━━━━━━━━━\u001b[0m\u001b[37m\u001b[0m \u001b[1m3s\u001b[0m 4ms/step - loss: 1900.0963 - mse: 1900.0963 - val_loss: 1203.1809 - val_mse: 1203.1809\n",
            "Epoch 2/50\n",
            "\u001b[1m400/400\u001b[0m \u001b[32m━━━━━━━━━━━━━━━━━━━━\u001b[0m\u001b[37m\u001b[0m \u001b[1m3s\u001b[0m 4ms/step - loss: 907.9626 - mse: 907.9626 - val_loss: 394.9155 - val_mse: 394.9155\n",
            "Epoch 3/50\n",
            "\u001b[1m400/400\u001b[0m \u001b[32m━━━━━━━━━━━━━━━━━━━━\u001b[0m\u001b[37m\u001b[0m \u001b[1m1s\u001b[0m 4ms/step - loss: 387.5021 - mse: 387.5021 - val_loss: 239.4400 - val_mse: 239.4400\n",
            "Epoch 4/50\n",
            "\u001b[1m400/400\u001b[0m \u001b[32m━━━━━━━━━━━━━━━━━━━━\u001b[0m\u001b[37m\u001b[0m \u001b[1m2s\u001b[0m 3ms/step - loss: 328.5531 - mse: 328.5531 - val_loss: 227.8066 - val_mse: 227.8066\n",
            "Epoch 5/50\n",
            "\u001b[1m400/400\u001b[0m \u001b[32m━━━━━━━━━━━━━━━━━━━━\u001b[0m\u001b[37m\u001b[0m \u001b[1m3s\u001b[0m 3ms/step - loss: 308.3372 - mse: 308.3372 - val_loss: 228.7511 - val_mse: 228.7511\n",
            "Epoch 6/50\n",
            "\u001b[1m400/400\u001b[0m \u001b[32m━━━━━━━━━━━━━━━━━━━━\u001b[0m\u001b[37m\u001b[0m \u001b[1m2s\u001b[0m 3ms/step - loss: 311.4362 - mse: 311.4362 - val_loss: 226.4407 - val_mse: 226.4407\n",
            "Epoch 7/50\n",
            "\u001b[1m400/400\u001b[0m \u001b[32m━━━━━━━━━━━━━━━━━━━━\u001b[0m\u001b[37m\u001b[0m \u001b[1m1s\u001b[0m 3ms/step - loss: 302.8342 - mse: 302.8342 - val_loss: 213.6899 - val_mse: 213.6899\n",
            "Epoch 8/50\n",
            "\u001b[1m400/400\u001b[0m \u001b[32m━━━━━━━━━━━━━━━━━━━━\u001b[0m\u001b[37m\u001b[0m \u001b[1m2s\u001b[0m 4ms/step - loss: 285.4219 - mse: 285.4219 - val_loss: 215.3128 - val_mse: 215.3128\n",
            "Epoch 9/50\n",
            "\u001b[1m400/400\u001b[0m \u001b[32m━━━━━━━━━━━━━━━━━━━━\u001b[0m\u001b[37m\u001b[0m \u001b[1m2s\u001b[0m 4ms/step - loss: 283.7303 - mse: 283.7303 - val_loss: 210.0236 - val_mse: 210.0236\n",
            "Epoch 10/50\n",
            "\u001b[1m400/400\u001b[0m \u001b[32m━━━━━━━━━━━━━━━━━━━━\u001b[0m\u001b[37m\u001b[0m \u001b[1m2s\u001b[0m 3ms/step - loss: 284.1259 - mse: 284.1259 - val_loss: 204.1803 - val_mse: 204.1803\n",
            "Epoch 11/50\n",
            "\u001b[1m400/400\u001b[0m \u001b[32m━━━━━━━━━━━━━━━━━━━━\u001b[0m\u001b[37m\u001b[0m \u001b[1m1s\u001b[0m 3ms/step - loss: 289.0626 - mse: 289.0626 - val_loss: 207.3218 - val_mse: 207.3218\n",
            "Epoch 12/50\n",
            "\u001b[1m400/400\u001b[0m \u001b[32m━━━━━━━━━━━━━━━━━━━━\u001b[0m\u001b[37m\u001b[0m \u001b[1m1s\u001b[0m 3ms/step - loss: 279.8355 - mse: 279.8355 - val_loss: 197.8337 - val_mse: 197.8337\n",
            "Epoch 13/50\n",
            "\u001b[1m400/400\u001b[0m \u001b[32m━━━━━━━━━━━━━━━━━━━━\u001b[0m\u001b[37m\u001b[0m \u001b[1m1s\u001b[0m 3ms/step - loss: 285.2338 - mse: 285.2338 - val_loss: 194.2537 - val_mse: 194.2537\n",
            "Epoch 14/50\n",
            "\u001b[1m400/400\u001b[0m \u001b[32m━━━━━━━━━━━━━━━━━━━━\u001b[0m\u001b[37m\u001b[0m \u001b[1m1s\u001b[0m 3ms/step - loss: 270.9747 - mse: 270.9747 - val_loss: 192.9580 - val_mse: 192.9580\n",
            "Epoch 15/50\n",
            "\u001b[1m400/400\u001b[0m \u001b[32m━━━━━━━━━━━━━━━━━━━━\u001b[0m\u001b[37m\u001b[0m \u001b[1m1s\u001b[0m 3ms/step - loss: 280.5631 - mse: 280.5631 - val_loss: 200.1524 - val_mse: 200.1524\n",
            "Epoch 16/50\n",
            "\u001b[1m400/400\u001b[0m \u001b[32m━━━━━━━━━━━━━━━━━━━━\u001b[0m\u001b[37m\u001b[0m \u001b[1m1s\u001b[0m 3ms/step - loss: 277.8750 - mse: 277.8750 - val_loss: 201.6202 - val_mse: 201.6202\n",
            "Epoch 17/50\n",
            "\u001b[1m400/400\u001b[0m \u001b[32m━━━━━━━━━━━━━━━━━━━━\u001b[0m\u001b[37m\u001b[0m \u001b[1m2s\u001b[0m 3ms/step - loss: 278.6508 - mse: 278.6508 - val_loss: 202.5529 - val_mse: 202.5529\n",
            "Epoch 18/50\n",
            "\u001b[1m400/400\u001b[0m \u001b[32m━━━━━━━━━━━━━━━━━━━━\u001b[0m\u001b[37m\u001b[0m \u001b[1m2s\u001b[0m 3ms/step - loss: 270.0226 - mse: 270.0226 - val_loss: 190.4229 - val_mse: 190.4229\n",
            "Epoch 19/50\n",
            "\u001b[1m400/400\u001b[0m \u001b[32m━━━━━━━━━━━━━━━━━━━━\u001b[0m\u001b[37m\u001b[0m \u001b[1m1s\u001b[0m 3ms/step - loss: 279.0424 - mse: 279.0424 - val_loss: 198.0422 - val_mse: 198.0422\n",
            "Epoch 20/50\n",
            "\u001b[1m400/400\u001b[0m \u001b[32m━━━━━━━━━━━━━━━━━━━━\u001b[0m\u001b[37m\u001b[0m \u001b[1m3s\u001b[0m 3ms/step - loss: 270.3139 - mse: 270.3139 - val_loss: 190.3226 - val_mse: 190.3226\n",
            "Epoch 21/50\n",
            "\u001b[1m400/400\u001b[0m \u001b[32m━━━━━━━━━━━━━━━━━━━━\u001b[0m\u001b[37m\u001b[0m \u001b[1m1s\u001b[0m 3ms/step - loss: 267.9667 - mse: 267.9667 - val_loss: 192.4244 - val_mse: 192.4244\n",
            "Epoch 22/50\n",
            "\u001b[1m400/400\u001b[0m \u001b[32m━━━━━━━━━━━━━━━━━━━━\u001b[0m\u001b[37m\u001b[0m \u001b[1m2s\u001b[0m 3ms/step - loss: 264.9317 - mse: 264.9317 - val_loss: 189.4214 - val_mse: 189.4214\n",
            "Epoch 23/50\n",
            "\u001b[1m400/400\u001b[0m \u001b[32m━━━━━━━━━━━━━━━━━━━━\u001b[0m\u001b[37m\u001b[0m \u001b[1m1s\u001b[0m 3ms/step - loss: 269.5320 - mse: 269.5320 - val_loss: 196.2330 - val_mse: 196.2330\n",
            "Epoch 24/50\n",
            "\u001b[1m400/400\u001b[0m \u001b[32m━━━━━━━━━━━━━━━━━━━━\u001b[0m\u001b[37m\u001b[0m \u001b[1m4s\u001b[0m 6ms/step - loss: 270.5080 - mse: 270.5080 - val_loss: 187.8777 - val_mse: 187.8777\n",
            "Epoch 25/50\n",
            "\u001b[1m400/400\u001b[0m \u001b[32m━━━━━━━━━━━━━━━━━━━━\u001b[0m\u001b[37m\u001b[0m \u001b[1m2s\u001b[0m 3ms/step - loss: 266.9071 - mse: 266.9071 - val_loss: 187.7002 - val_mse: 187.7002\n",
            "Epoch 26/50\n",
            "\u001b[1m400/400\u001b[0m \u001b[32m━━━━━━━━━━━━━━━━━━━━\u001b[0m\u001b[37m\u001b[0m \u001b[1m1s\u001b[0m 3ms/step - loss: 269.0171 - mse: 269.0171 - val_loss: 183.9960 - val_mse: 183.9960\n",
            "Epoch 27/50\n",
            "\u001b[1m400/400\u001b[0m \u001b[32m━━━━━━━━━━━━━━━━━━━━\u001b[0m\u001b[37m\u001b[0m \u001b[1m1s\u001b[0m 3ms/step - loss: 267.1402 - mse: 267.1402 - val_loss: 188.3910 - val_mse: 188.3910\n",
            "Epoch 28/50\n",
            "\u001b[1m400/400\u001b[0m \u001b[32m━━━━━━━━━━━━━━━━━━━━\u001b[0m\u001b[37m\u001b[0m \u001b[1m1s\u001b[0m 3ms/step - loss: 258.2377 - mse: 258.2377 - val_loss: 189.3948 - val_mse: 189.3948\n",
            "Epoch 29/50\n",
            "\u001b[1m400/400\u001b[0m \u001b[32m━━━━━━━━━━━━━━━━━━━━\u001b[0m\u001b[37m\u001b[0m \u001b[1m1s\u001b[0m 3ms/step - loss: 275.8777 - mse: 275.8777 - val_loss: 182.7211 - val_mse: 182.7211\n",
            "Epoch 30/50\n",
            "\u001b[1m400/400\u001b[0m \u001b[32m━━━━━━━━━━━━━━━━━━━━\u001b[0m\u001b[37m\u001b[0m \u001b[1m2s\u001b[0m 3ms/step - loss: 261.1625 - mse: 261.1625 - val_loss: 187.0708 - val_mse: 187.0708\n",
            "Epoch 31/50\n",
            "\u001b[1m400/400\u001b[0m \u001b[32m━━━━━━━━━━━━━━━━━━━━\u001b[0m\u001b[37m\u001b[0m \u001b[1m2s\u001b[0m 4ms/step - loss: 264.4706 - mse: 264.4706 - val_loss: 181.6686 - val_mse: 181.6686\n",
            "Epoch 32/50\n",
            "\u001b[1m400/400\u001b[0m \u001b[32m━━━━━━━━━━━━━━━━━━━━\u001b[0m\u001b[37m\u001b[0m \u001b[1m2s\u001b[0m 4ms/step - loss: 254.1011 - mse: 254.1011 - val_loss: 185.4748 - val_mse: 185.4748\n",
            "Epoch 33/50\n",
            "\u001b[1m400/400\u001b[0m \u001b[32m━━━━━━━━━━━━━━━━━━━━\u001b[0m\u001b[37m\u001b[0m \u001b[1m2s\u001b[0m 3ms/step - loss: 263.6997 - mse: 263.6997 - val_loss: 184.5821 - val_mse: 184.5821\n",
            "Epoch 34/50\n",
            "\u001b[1m400/400\u001b[0m \u001b[32m━━━━━━━━━━━━━━━━━━━━\u001b[0m\u001b[37m\u001b[0m \u001b[1m1s\u001b[0m 3ms/step - loss: 259.2341 - mse: 259.2341 - val_loss: 191.5317 - val_mse: 191.5317\n",
            "Epoch 35/50\n",
            "\u001b[1m400/400\u001b[0m \u001b[32m━━━━━━━━━━━━━━━━━━━━\u001b[0m\u001b[37m\u001b[0m \u001b[1m1s\u001b[0m 3ms/step - loss: 251.4010 - mse: 251.4010 - val_loss: 181.6753 - val_mse: 181.6753\n",
            "Epoch 36/50\n",
            "\u001b[1m400/400\u001b[0m \u001b[32m━━━━━━━━━━━━━━━━━━━━\u001b[0m\u001b[37m\u001b[0m \u001b[1m1s\u001b[0m 3ms/step - loss: 252.9797 - mse: 252.9797 - val_loss: 181.8526 - val_mse: 181.8526\n",
            "\u001b[1m125/125\u001b[0m \u001b[32m━━━━━━━━━━━━━━━━━━━━\u001b[0m\u001b[37m\u001b[0m \u001b[1m0s\u001b[0m 1ms/step\n"
          ]
        }
      ],
      "source": [
        "# --- Define NN Architecture ---\n",
        "model = Sequential([\n",
        "    Dense(64, activation='relu', input_shape=(X_train.shape[1],)),\n",
        "    BatchNormalization(),\n",
        "    Dropout(0.2),\n",
        "    Dense(32, activation='relu'),\n",
        "    BatchNormalization(),\n",
        "    Dropout(0.2),\n",
        "    Dense(1)  # Linear output for regression\n",
        "])\n",
        "\n",
        "# --- Compile the Model ---\n",
        "model.compile(optimizer=Adam(learning_rate=0.001),\n",
        "              loss='mse',\n",
        "              metrics=['mse'])\n",
        "\n",
        "# --- Train with Early Stopping ---\n",
        "early_stop = EarlyStopping(monitor='val_loss', patience=5, restore_best_weights=True)\n",
        "history = model.fit(\n",
        "    X_train, y_train,\n",
        "    validation_split=0.2,\n",
        "    epochs=50,\n",
        "    batch_size=32,\n",
        "    callbacks=[early_stop],\n",
        "    verbose=1\n",
        ")\n",
        "\n",
        "# --- Extract Hyperparameters ---\n",
        "def get_model_params(model):\n",
        "    params = {}\n",
        "\n",
        "    # Optimizer parameters\n",
        "    if hasattr(model.optimizer, 'learning_rate'):\n",
        "        params['learning_rate'] = float(model.optimizer.learning_rate.numpy())\n",
        "\n",
        "    # Layer-specific parameters\n",
        "    for layer in model.layers:\n",
        "        if isinstance(layer, Dense):\n",
        "            params[f'dense_units_{layer.name}'] = layer.units\n",
        "            params[f'activation_{layer.name}'] = layer.activation.__name__\n",
        "        elif isinstance(layer, Dropout):\n",
        "            params[f'dropout_rate_{layer.name}'] = layer.rate\n",
        "        elif isinstance(layer, BatchNormalization):\n",
        "            params[f'batchnorm_{layer.name}'] = True\n",
        "\n",
        "        return params\n",
        "\n",
        "# --- Predict & Evaluate ---\n",
        "y_pred_nn = model.predict(X_test).flatten()\n",
        "\n",
        "# Store results\n",
        "models['Neural Network'] = model\n",
        "results['Neural Network'] = {\n",
        "    'RMSE': np.sqrt(mean_squared_error(y_test, y_pred_nn)),\n",
        "    'R2': r2_score(y_test, y_pred_nn),\n",
        "    'Params': get_model_params(model)\n",
        "}\n"
      ]
    },
    {
      "cell_type": "markdown",
      "id": "009803ef",
      "metadata": {
        "id": "009803ef"
      },
      "source": [
        "3. **XGBoost Regressor**"
      ]
    },
    {
      "cell_type": "code",
      "execution_count": null,
      "id": "a319608a",
      "metadata": {
        "colab": {
          "base_uri": "https://localhost:8080/"
        },
        "id": "a319608a",
        "outputId": "d2400edc-ab01-4104-b749-e9d42b21c469"
      },
      "outputs": [
        {
          "name": "stdout",
          "output_type": "stream",
          "text": [
            "Fitting 3 folds for each of 72 candidates, totalling 216 fits\n"
          ]
        }
      ],
      "source": [
        "# 3. XGBoost Regressor\n",
        "xgb = XGBRegressor(objective='reg:squarederror', random_state=42)\n",
        "# Define the parameter grid\n",
        "param_grid = {\n",
        "    'n_estimators': [100, 200],\n",
        "    'learning_rate': [0.01, 0.05, 0.1],\n",
        "    'max_depth': [3, 5, 7],\n",
        "    'subsample': [0.8, 1.0],\n",
        "    'colsample_bytree': [0.8, 1.0]\n",
        "}\n",
        "\n",
        "# Initialize base model\n",
        "xgb_base = XGBRegressor(random_state=42)\n",
        "\n",
        "# Grid search with 3-fold cross-validation\n",
        "grid_search = GridSearchCV(\n",
        "    estimator=xgb_base,\n",
        "    param_grid=param_grid,\n",
        "    scoring='neg_mean_squared_error',\n",
        "    cv=3,\n",
        "    verbose=1,\n",
        "    n_jobs=-1\n",
        ")\n",
        "\n",
        "grid_search.fit(X_train, y_train)\n",
        "\n",
        "best_model = grid_search.best_estimator_\n",
        "y_pred_xgb = best_model.predict(X_test)\n",
        "\n",
        "models['XGBoost'] = grid_search.best_params_\n",
        "results['XGBoost'] = {\n",
        "    'RMSE': np.sqrt(mean_squared_error(y_test, y_pred_xgb)),\n",
        "    'R2': r2_score(y_test, y_pred_xgb),\n",
        "    'Params': grid_search.best_params_\n",
        "}\n"
      ]
    },
    {
      "cell_type": "markdown",
      "id": "5bb055c7",
      "metadata": {
        "id": "5bb055c7"
      },
      "source": [
        "**Models Evaluation and comparison**"
      ]
    },
    {
      "cell_type": "code",
      "execution_count": null,
      "id": "6483ed24",
      "metadata": {
        "colab": {
          "base_uri": "https://localhost:8080/"
        },
        "id": "6483ed24",
        "outputId": "e07911f7-8cd4-42d6-9382-42aa71f3d0eb"
      },
      "outputs": [
        {
          "name": "stdout",
          "output_type": "stream",
          "text": [
            "Model Comparison:\n",
            "Ridge:\n",
            "  RMSE        = 19.97\n",
            "  R²          = 0.5349\n",
            "  Params = {'alpha': 0.1}\n",
            "Neural Network:\n",
            "  RMSE        = 13.63\n",
            "  R²          = 0.7833\n",
            "  Params = {'learning_rate': 0.0010000000474974513, 'dense_units_dense_5': 64, 'activation_dense_5': 'relu'}\n",
            "XGBoost:\n",
            "  RMSE        = 11.79\n",
            "  R²          = 0.8378\n",
            "  Params = {'colsample_bytree': 1.0, 'learning_rate': 0.05, 'max_depth': 7, 'n_estimators': 100, 'subsample': 0.8}\n"
          ]
        }
      ],
      "source": [
        "print(\"Model Comparison:\")\n",
        "for model_name, metrics in results.items():\n",
        "    print(f\"{model_name}:\")\n",
        "    print(f\"  RMSE        = {metrics['RMSE']:.2f}\")\n",
        "    print(f\"  R²          = {metrics['R2']:.4f}\")\n",
        "    print(f\"  Params = {metrics['Params']}\")"
      ]
    },
    {
      "cell_type": "code",
      "execution_count": null,
      "id": "6ae53dd9",
      "metadata": {
        "colab": {
          "base_uri": "https://localhost:8080/",
          "height": 507
        },
        "id": "6ae53dd9",
        "outputId": "c925314a-8e24-4ac4-dbac-1735fba238ab"
      },
      "outputs": [
        {
          "data": {
            "image/png": "[encoded data removed]",
            "text/plain": [
              "<Figure size 1000x500 with 2 Axes>"
            ]
          },
          "metadata": {},
          "output_type": "display_data"
        }
      ],
      "source": [
        "# Extract metrics\n",
        "model_names = list(results.keys())\n",
        "rmse_values = [results[model]['RMSE'] for model in model_names]\n",
        "r2_values = [results[model]['R2'] for model in model_names]\n",
        "\n",
        "# Plot RMSE\n",
        "plt.figure(figsize=(10, 5))\n",
        "plt.subplot(1, 2, 1)\n",
        "plt.bar(model_names, rmse_values, color=['skyblue', 'lightgreen', 'salmon'])\n",
        "plt.title('RMSE Comparison')\n",
        "plt.ylabel('RMSE (Lower is Better)')\n",
        "plt.xticks(rotation=45)\n",
        "\n",
        "# Plot R²\n",
        "plt.subplot(1, 2, 2)\n",
        "plt.bar(model_names, r2_values, color=['skyblue', 'lightgreen', 'salmon'])\n",
        "plt.title('R² Comparison')\n",
        "plt.ylabel('R² (Higher is Better)')\n",
        "plt.xticks(rotation=45)\n",
        "\n",
        "plt.tight_layout()\n",
        "plt.show()\n"
      ]
    },
    {
      "cell_type": "markdown",
      "id": "dc0e03d3-bc0d-4252-9f4e-9eb3557f8380",
      "metadata": {
        "id": "dc0e03d3-bc0d-4252-9f4e-9eb3557f8380"
      },
      "source": [
        "## **Diabetes_progression**"
      ]
    },
    {
      "cell_type": "markdown",
      "id": "4e789b82-199b-4390-9ab5-ac65ef90af26",
      "metadata": {
        "id": "4e789b82-199b-4390-9ab5-ac65ef90af26"
      },
      "source": [
        "### Model training and Evaluation"
      ]
    },
    {
      "cell_type": "code",
      "execution_count": null,
      "id": "56efeca4",
      "metadata": {
        "id": "56efeca4"
      },
      "outputs": [],
      "source": [
        "# Store models and results to compare later\n",
        "models = {}\n",
        "results = {}"
      ]
    },
    {
      "cell_type": "markdown",
      "id": "c74564d6",
      "metadata": {
        "id": "c74564d6"
      },
      "source": [
        "1. **Linear Regression with Ridge Regularization**"
      ]
    },
    {
      "cell_type": "code",
      "execution_count": null,
      "id": "aae8e53e",
      "metadata": {
        "colab": {
          "base_uri": "https://localhost:8080/"
        },
        "id": "aae8e53e",
        "outputId": "412b58d6-35f5-44a7-d02e-9687917124d6"
      },
      "outputs": [
        {
          "name": "stderr",
          "output_type": "stream",
          "text": [
            "2025-05-08 15:57:50,256 - INFO - Ridge Regression evaluation complete. RMSE: 9.4655, R2: 0.8619, Best Params: {'alpha': 0.01}\n"
          ]
        }
      ],
      "source": [
        "# 1. Ridge Regression\n",
        "ridge = Ridge()\n",
        "ridge_params = {\n",
        "    'alpha': [0.01, 0.1, 1, 10, 100]\n",
        "}\n",
        "ridge_grid = GridSearchCV(ridge, ridge_params, cv=5, scoring='neg_mean_squared_error')\n",
        "ridge_grid.fit(X_train, y_train_reg)\n",
        "y_pred_ridge = ridge_grid.predict(X_test)\n",
        "\n",
        "models['Ridge'] = ridge_grid.best_estimator_\n",
        "results['Ridge'] = {\n",
        "    'RMSE': np.sqrt(mean_squared_error(y_test_reg, y_pred_ridge)),\n",
        "    'R2': r2_score(y_test_reg, y_pred_ridge),\n",
        "    'Params': ridge_grid.best_params_\n",
        "}\n",
        "\n",
        "logger.info(f\"Ridge Regression evaluation complete. RMSE: {results['Ridge']['RMSE']:.4f}, R2: {results['Ridge']['R2']:.4f}, Best Params: {results['Ridge']['Params']}\")"
      ]
    },
    {
      "cell_type": "markdown",
      "id": "e5757a01",
      "metadata": {
        "id": "e5757a01"
      },
      "source": [
        "2. **Neural Network**"
      ]
    },
    {
      "cell_type": "code",
      "execution_count": null,
      "id": "677e1268",
      "metadata": {
        "colab": {
          "base_uri": "https://localhost:8080/"
        },
        "id": "677e1268",
        "outputId": "0fb9bb5d-eb07-47f7-e7ff-97439c9cf1a1"
      },
      "outputs": [
        {
          "name": "stdout",
          "output_type": "stream",
          "text": [
            "Epoch 1/50\n"
          ]
        },
        {
          "name": "stderr",
          "output_type": "stream",
          "text": [
            "/usr/local/lib/python3.11/dist-packages/keras/src/layers/core/dense.py:87: UserWarning: Do not pass an `input_shape`/`input_dim` argument to a layer. When using Sequential models, prefer using an `Input(shape)` object as the first layer in the model instead.\n",
            "  super().__init__(activity_regularizer=activity_regularizer, **kwargs)\n"
          ]
        },
        {
          "name": "stdout",
          "output_type": "stream",
          "text": [
            "\u001b[1m400/400\u001b[0m \u001b[32m━━━━━━━━━━━━━━━━━━━━\u001b[0m\u001b[37m\u001b[0m \u001b[1m3s\u001b[0m 4ms/step - loss: 1271.6587 - mse: 1271.6587 - val_loss: 488.4923 - val_mse: 488.4923\n",
            "Epoch 2/50\n",
            "\u001b[1m400/400\u001b[0m \u001b[32m━━━━━━━━━━━━━━━━━━━━\u001b[0m\u001b[37m\u001b[0m \u001b[1m2s\u001b[0m 3ms/step - loss: 421.9931 - mse: 421.9931 - val_loss: 81.5976 - val_mse: 81.5976\n",
            "Epoch 3/50\n",
            "\u001b[1m400/400\u001b[0m \u001b[32m━━━━━━━━━━━━━━━━━━━━\u001b[0m\u001b[37m\u001b[0m \u001b[1m2s\u001b[0m 5ms/step - loss: 103.9572 - mse: 103.9572 - val_loss: 22.6336 - val_mse: 22.6336\n",
            "Epoch 4/50\n",
            "\u001b[1m400/400\u001b[0m \u001b[32m━━━━━━━━━━━━━━━━━━━━\u001b[0m\u001b[37m\u001b[0m \u001b[1m2s\u001b[0m 4ms/step - loss: 66.0870 - mse: 66.0870 - val_loss: 17.7919 - val_mse: 17.7919\n",
            "Epoch 5/50\n",
            "\u001b[1m400/400\u001b[0m \u001b[32m━━━━━━━━━━━━━━━━━━━━\u001b[0m\u001b[37m\u001b[0m \u001b[1m2s\u001b[0m 3ms/step - loss: 60.3371 - mse: 60.3371 - val_loss: 17.6738 - val_mse: 17.6738\n",
            "Epoch 6/50\n",
            "\u001b[1m400/400\u001b[0m \u001b[32m━━━━━━━━━━━━━━━━━━━━\u001b[0m\u001b[37m\u001b[0m \u001b[1m1s\u001b[0m 3ms/step - loss: 60.6915 - mse: 60.6915 - val_loss: 14.6839 - val_mse: 14.6839\n",
            "Epoch 7/50\n",
            "\u001b[1m400/400\u001b[0m \u001b[32m━━━━━━━━━━━━━━━━━━━━\u001b[0m\u001b[37m\u001b[0m \u001b[1m2s\u001b[0m 3ms/step - loss: 58.7122 - mse: 58.7122 - val_loss: 14.9712 - val_mse: 14.9712\n",
            "Epoch 8/50\n",
            "\u001b[1m400/400\u001b[0m \u001b[32m━━━━━━━━━━━━━━━━━━━━\u001b[0m\u001b[37m\u001b[0m \u001b[1m1s\u001b[0m 3ms/step - loss: 58.5278 - mse: 58.5278 - val_loss: 14.8354 - val_mse: 14.8354\n",
            "Epoch 9/50\n",
            "\u001b[1m400/400\u001b[0m \u001b[32m━━━━━━━━━━━━━━━━━━━━\u001b[0m\u001b[37m\u001b[0m \u001b[1m1s\u001b[0m 3ms/step - loss: 53.9411 - mse: 53.9411 - val_loss: 14.5723 - val_mse: 14.5723\n",
            "Epoch 10/50\n",
            "\u001b[1m400/400\u001b[0m \u001b[32m━━━━━━━━━━━━━━━━━━━━\u001b[0m\u001b[37m\u001b[0m \u001b[1m2s\u001b[0m 4ms/step - loss: 56.9356 - mse: 56.9356 - val_loss: 14.8514 - val_mse: 14.8514\n",
            "Epoch 11/50\n",
            "\u001b[1m400/400\u001b[0m \u001b[32m━━━━━━━━━━━━━━━━━━━━\u001b[0m\u001b[37m\u001b[0m \u001b[1m2s\u001b[0m 3ms/step - loss: 56.1102 - mse: 56.1102 - val_loss: 12.8237 - val_mse: 12.8237\n",
            "Epoch 12/50\n",
            "\u001b[1m400/400\u001b[0m \u001b[32m━━━━━━━━━━━━━━━━━━━━\u001b[0m\u001b[37m\u001b[0m \u001b[1m1s\u001b[0m 3ms/step - loss: 55.2136 - mse: 55.2136 - val_loss: 14.3440 - val_mse: 14.3440\n",
            "Epoch 13/50\n",
            "\u001b[1m400/400\u001b[0m \u001b[32m━━━━━━━━━━━━━━━━━━━━\u001b[0m\u001b[37m\u001b[0m \u001b[1m1s\u001b[0m 3ms/step - loss: 53.3030 - mse: 53.3030 - val_loss: 12.2944 - val_mse: 12.2944\n",
            "Epoch 14/50\n",
            "\u001b[1m400/400\u001b[0m \u001b[32m━━━━━━━━━━━━━━━━━━━━\u001b[0m\u001b[37m\u001b[0m \u001b[1m3s\u001b[0m 3ms/step - loss: 58.2013 - mse: 58.2013 - val_loss: 14.9119 - val_mse: 14.9119\n",
            "Epoch 15/50\n",
            "\u001b[1m400/400\u001b[0m \u001b[32m━━━━━━━━━━━━━━━━━━━━\u001b[0m\u001b[37m\u001b[0m \u001b[1m2s\u001b[0m 3ms/step - loss: 56.1579 - mse: 56.1579 - val_loss: 11.7622 - val_mse: 11.7622\n",
            "Epoch 16/50\n",
            "\u001b[1m400/400\u001b[0m \u001b[32m━━━━━━━━━━━━━━━━━━━━\u001b[0m\u001b[37m\u001b[0m \u001b[1m1s\u001b[0m 3ms/step - loss: 55.6237 - mse: 55.6237 - val_loss: 12.8834 - val_mse: 12.8834\n",
            "Epoch 17/50\n",
            "\u001b[1m400/400\u001b[0m \u001b[32m━━━━━━━━━━━━━━━━━━━━\u001b[0m\u001b[37m\u001b[0m \u001b[1m3s\u001b[0m 4ms/step - loss: 51.9939 - mse: 51.9939 - val_loss: 11.9379 - val_mse: 11.9379\n",
            "Epoch 18/50\n",
            "\u001b[1m400/400\u001b[0m \u001b[32m━━━━━━━━━━━━━━━━━━━━\u001b[0m\u001b[37m\u001b[0m \u001b[1m2s\u001b[0m 3ms/step - loss: 55.4570 - mse: 55.4570 - val_loss: 13.6801 - val_mse: 13.6801\n",
            "Epoch 19/50\n",
            "\u001b[1m400/400\u001b[0m \u001b[32m━━━━━━━━━━━━━━━━━━━━\u001b[0m\u001b[37m\u001b[0m \u001b[1m3s\u001b[0m 3ms/step - loss: 54.5992 - mse: 54.5992 - val_loss: 12.0388 - val_mse: 12.0388\n",
            "Epoch 20/50\n",
            "\u001b[1m400/400\u001b[0m \u001b[32m━━━━━━━━━━━━━━━━━━━━\u001b[0m\u001b[37m\u001b[0m \u001b[1m1s\u001b[0m 3ms/step - loss: 56.1300 - mse: 56.1300 - val_loss: 11.7693 - val_mse: 11.7693\n",
            "\u001b[1m125/125\u001b[0m \u001b[32m━━━━━━━━━━━━━━━━━━━━\u001b[0m\u001b[37m\u001b[0m \u001b[1m0s\u001b[0m 1ms/step\n"
          ]
        }
      ],
      "source": [
        "# --- Define NN Architecture ---\n",
        "model = Sequential([\n",
        "    Dense(64, activation='relu', input_shape=(X_train.shape[1],)),\n",
        "    BatchNormalization(),\n",
        "    Dropout(0.2),\n",
        "    Dense(32, activation='relu'),\n",
        "    BatchNormalization(),\n",
        "    Dropout(0.2),\n",
        "    Dense(1)  # Linear output for regression\n",
        "])\n",
        "\n",
        "# --- Compile the Model ---\n",
        "model.compile(optimizer=Adam(learning_rate=0.001),\n",
        "              loss='mse',\n",
        "              metrics=['mse'])\n",
        "\n",
        "# --- Train with Early Stopping ---\n",
        "early_stop = EarlyStopping(monitor='val_loss', patience=5, restore_best_weights=True)\n",
        "history = model.fit(\n",
        "    X_train, y_train_reg,\n",
        "    validation_split=0.2,\n",
        "    epochs=50,\n",
        "    batch_size=32,\n",
        "    callbacks=[early_stop],\n",
        "    verbose=1\n",
        ")\n",
        "\n",
        "# --- Extract Hyperparameters ---\n",
        "def get_model_params(model):\n",
        "    params = {}\n",
        "\n",
        "    # Optimizer parameters\n",
        "    if hasattr(model.optimizer, 'learning_rate'):\n",
        "        params['learning_rate'] = float(model.optimizer.learning_rate.numpy())\n",
        "\n",
        "    # Layer-specific parameters\n",
        "    for layer in model.layers:\n",
        "        if isinstance(layer, Dense):\n",
        "            params[f'dense_units_{layer.name}'] = layer.units\n",
        "            params[f'activation_{layer.name}'] = layer.activation.__name__\n",
        "        elif isinstance(layer, Dropout):\n",
        "            params[f'dropout_rate_{layer.name}'] = layer.rate\n",
        "        elif isinstance(layer, BatchNormalization):\n",
        "            params[f'batchnorm_{layer.name}'] = True\n",
        "\n",
        "        return params\n",
        "\n",
        "# --- Predict & Evaluate ---\n",
        "y_pred_nn = model.predict(X_test).flatten()\n",
        "\n",
        "# Store results\n",
        "models['Neural Network'] = model\n",
        "results['Neural Network'] = {\n",
        "    'RMSE': np.sqrt(mean_squared_error(y_test_reg, y_pred_nn)),\n",
        "    'R2': r2_score(y_test_reg, y_pred_nn),\n",
        "    'Params': get_model_params(model)\n",
        "}"
      ]
    },
    {
      "cell_type": "markdown",
      "id": "137fab0a",
      "metadata": {
        "id": "137fab0a"
      },
      "source": [
        "3. **XGBoost Regressor**"
      ]
    },
    {
      "cell_type": "code",
      "execution_count": null,
      "id": "9e4a7fe0",
      "metadata": {
        "colab": {
          "base_uri": "https://localhost:8080/"
        },
        "id": "9e4a7fe0",
        "outputId": "d784170f-bd9a-4344-da3c-1425a23ba589"
      },
      "outputs": [
        {
          "name": "stdout",
          "output_type": "stream",
          "text": [
            "Fitting 3 folds for each of 72 candidates, totalling 216 fits\n"
          ]
        }
      ],
      "source": [
        "# 3. XGBoost Regressor\n",
        "xgb = XGBRegressor(objective='reg:squarederror', random_state=42)\n",
        "# Define the parameter grid\n",
        "param_grid = {\n",
        "    'n_estimators': [100, 200],\n",
        "    'learning_rate': [0.01, 0.05, 0.1],\n",
        "    'max_depth': [3, 5, 7],\n",
        "    'subsample': [0.8, 1.0],\n",
        "    'colsample_bytree': [0.8, 1.0]\n",
        "}\n",
        "\n",
        "# Initialize base model\n",
        "xgb_base = XGBRegressor(random_state=42)\n",
        "\n",
        "# Grid search with 3-fold cross-validation\n",
        "grid_search = GridSearchCV(\n",
        "    estimator=xgb_base,\n",
        "    param_grid=param_grid,\n",
        "    scoring='neg_mean_squared_error',\n",
        "    cv=3,\n",
        "    verbose=1,\n",
        "    n_jobs=-1\n",
        ")\n",
        "\n",
        "grid_search.fit(X_train, y_train_reg)\n",
        "\n",
        "best_model = grid_search.best_estimator_\n",
        "y_pred_xgb = best_model.predict(X_test)\n",
        "\n",
        "models['XGBoost'] = grid_search.best_params_\n",
        "results['XGBoost'] = {\n",
        "    'RMSE': np.sqrt(mean_squared_error(y_test_reg, y_pred_xgb)),\n",
        "    'R2': r2_score(y_test_reg, y_pred_xgb),\n",
        "    'Params': grid_search.best_params_\n",
        "}"
      ]
    },
    {
      "cell_type": "markdown",
      "id": "6b6d8832",
      "metadata": {
        "id": "6b6d8832"
      },
      "source": [
        "Models Comparison"
      ]
    },
    {
      "cell_type": "code",
      "execution_count": null,
      "id": "9d7a11fd",
      "metadata": {
        "colab": {
          "base_uri": "https://localhost:8080/",
          "height": 733
        },
        "id": "9d7a11fd",
        "outputId": "4ba6aff9-665f-4546-a197-8c9a9211fa34"
      },
      "outputs": [
        {
          "name": "stdout",
          "output_type": "stream",
          "text": [
            "Model Comparison:\n",
            "Ridge:\n",
            "  RMSE        = 9.47\n",
            "  R²          = 0.8619\n",
            "  Params = {'alpha': 0.01}\n",
            "Neural Network:\n",
            "  RMSE        = 3.50\n",
            "  R²          = 0.9811\n",
            "  Params = {'learning_rate': 0.0010000000474974513, 'dense_units_dense_8': 64, 'activation_dense_8': 'relu'}\n",
            "XGBoost:\n",
            "  RMSE        = 2.31\n",
            "  R²          = 0.9917\n",
            "  Params = {'colsample_bytree': 1.0, 'learning_rate': 0.05, 'max_depth': 7, 'n_estimators': 100, 'subsample': 0.8}\n"
          ]
        },
        {
          "data": {
            "image/png": "[encoded data removed]",
            "text/plain": [
              "<Figure size 1000x500 with 2 Axes>"
            ]
          },
          "metadata": {},
          "output_type": "display_data"
        }
      ],
      "source": [
        "print(\"Model Comparison:\")\n",
        "for model_name, metrics in results.items():\n",
        "    print(f\"{model_name}:\")\n",
        "    print(f\"  RMSE        = {metrics['RMSE']:.2f}\")\n",
        "    print(f\"  R²          = {metrics['R2']:.4f}\")\n",
        "    print(f\"  Params = {metrics['Params']}\")\n",
        "\n",
        "# Extract metrics\n",
        "model_names = list(results.keys())\n",
        "rmse_values = [results[model]['RMSE'] for model in model_names]\n",
        "r2_values = [results[model]['R2'] for model in model_names]\n",
        "\n",
        "# Plot RMSE\n",
        "plt.figure(figsize=(10, 5))\n",
        "plt.subplot(1, 2, 1)\n",
        "plt.bar(model_names, rmse_values, color=['skyblue', 'lightgreen', 'salmon'])\n",
        "plt.title('RMSE Comparison')\n",
        "plt.ylabel('RMSE (Lower is Better)')\n",
        "plt.xticks(rotation=45)\n",
        "\n",
        "# Plot R²\n",
        "plt.subplot(1, 2, 2)\n",
        "plt.bar(model_names, r2_values, color=['skyblue', 'lightgreen', 'salmon'])\n",
        "plt.title('R² Comparison')\n",
        "plt.ylabel('R² (Higher is Better)')\n",
        "plt.xticks(rotation=45)\n",
        "\n",
        "plt.tight_layout()\n",
        "plt.show()\n"
      ]
    },
    {
      "cell_type": "markdown",
      "id": "c1546c4f",
      "metadata": {
        "id": "c1546c4f"
      },
      "source": [
        "#### **XGBoost Classification**"
      ]
    },
    {
      "cell_type": "code",
      "execution_count": null,
      "id": "1c3eae7d-eddd-49ef-a3d6-fa84d29cc56a",
      "metadata": {
        "colab": {
          "base_uri": "https://localhost:8080/",
          "height": 715
        },
        "id": "1c3eae7d-eddd-49ef-a3d6-fa84d29cc56a",
        "outputId": "8324e93f-1496-4448-92ae-198305535782"
      },
      "outputs": [
        {
          "name": "stdout",
          "output_type": "stream",
          "text": [
            "Best Classification Params: {'learning_rate': 0.1, 'max_depth': 5, 'n_estimators': 100}\n",
            "XGBoost Classification Train Accuracy: 0.99325\n",
            "XGBoost Classification Test Accuracy: 0.99325\n",
            "Classification Report:\n",
            "               precision    recall  f1-score   support\n",
            "\n",
            "           0       0.98      1.00      0.99      1224\n",
            "           1       1.00      0.99      1.00      1406\n",
            "           2       1.00      0.99      0.99      1370\n",
            "\n",
            "    accuracy                           0.99      4000\n",
            "   macro avg       0.99      0.99      0.99      4000\n",
            "weighted avg       0.99      0.99      0.99      4000\n",
            "\n"
          ]
        },
        {
          "data": {
            "image/png": "[encoded data removed]",
            "text/plain": [
              "<Figure size 640x480 with 2 Axes>"
            ]
          },
          "metadata": {},
          "output_type": "display_data"
        }
      ],
      "source": [
        "cls_params = {\n",
        "    'n_estimators': [50, 100],\n",
        "    'learning_rate': [0.05, 0.1],\n",
        "    'max_depth': [3, 5]\n",
        "}\n",
        "xgb_cls = XGBClassifier(objective='multi:softmax', num_class=3, random_state=42)\n",
        "grid_cls = GridSearchCV(xgb_cls, cls_params, cv=3, scoring='accuracy')\n",
        "grid_cls.fit(X_train_scaled, y_train_cls)\n",
        "\n",
        "print(\"Best Classification Params:\", grid_cls.best_params_)\n",
        "\n",
        "y_train_pred_cls = grid_cls.predict(X_train_scaled)\n",
        "y_pred_cls = grid_cls.predict(X_test_scaled)\n",
        "\n",
        "train_acc = accuracy_score(y_train_cls, y_train_pred_cls)\n",
        "print(\"XGBoost Classification Train Accuracy:\", train_acc)\n",
        "acc = accuracy_score(y_test_cls, y_pred_cls)\n",
        "print(\"XGBoost Classification Test Accuracy:\", acc)\n",
        "print(\"Classification Report:\\n\", classification_report(y_test_cls, y_pred_cls))\n",
        "\n",
        "# Confusion Matrix\n",
        "cm = confusion_matrix(y_test_cls, y_pred_cls)\n",
        "sns.heatmap(cm, annot=True, fmt='d', cmap='Blues',\n",
        "            xticklabels=['No Diabetes', 'Type 1', 'Type 2'],\n",
        "            yticklabels=['No Diabetes', 'Type 1', 'Type 2'])\n",
        "plt.xlabel('Predicted')\n",
        "plt.ylabel('Actual')\n",
        "plt.title('Confusion Matrix')\n",
        "plt.show()\n"
      ]
    },
    {
      "cell_type": "markdown",
      "id": "432b1b00-03ad-4223-b9f2-8be4c8591137",
      "metadata": {
        "id": "432b1b00-03ad-4223-b9f2-8be4c8591137"
      },
      "source": [
        "## **Kidney_disease Progression**"
      ]
    },
    {
      "cell_type": "markdown",
      "id": "91394741-1c2f-4c4c-bd50-06f840b49be0",
      "metadata": {
        "id": "91394741-1c2f-4c4c-bd50-06f840b49be0"
      },
      "source": [
        "### Model Training and Evaluation"
      ]
    },
    {
      "cell_type": "code",
      "execution_count": null,
      "id": "c0ba582f",
      "metadata": {
        "id": "c0ba582f"
      },
      "outputs": [],
      "source": [
        "X_train = X_train_scaled\n",
        "X_test = X_test_scaled"
      ]
    },
    {
      "cell_type": "code",
      "execution_count": null,
      "id": "c24ffaff",
      "metadata": {
        "id": "c24ffaff"
      },
      "outputs": [],
      "source": [
        "# Store models and results to compare later\n",
        "models = {}\n",
        "results = {}"
      ]
    },
    {
      "cell_type": "markdown",
      "id": "abb865bd",
      "metadata": {
        "id": "abb865bd"
      },
      "source": [
        "1. **Linear Regression with Ridge regularization**"
      ]
    },
    {
      "cell_type": "code",
      "execution_count": null,
      "id": "4912c9c9",
      "metadata": {
        "colab": {
          "base_uri": "https://localhost:8080/"
        },
        "id": "4912c9c9",
        "outputId": "bdd4b610-299d-4d91-88f8-2a892f926abd"
      },
      "outputs": [
        {
          "name": "stderr",
          "output_type": "stream",
          "text": [
            "2025-05-08 16:03:15,941 - INFO - Ridge Regression evaluation complete. RMSE: 7.6548, R2: 0.9321, Best Params: {'alpha': 0.01}\n"
          ]
        }
      ],
      "source": [
        "# 1. Ridge Regression\n",
        "ridge = Ridge()\n",
        "ridge_params = {\n",
        "    'alpha': [0.01, 0.1, 1, 10, 100]\n",
        "}\n",
        "ridge_grid = GridSearchCV(ridge, ridge_params, cv=5, scoring='neg_mean_squared_error')\n",
        "ridge_grid.fit(X_train, y_train)\n",
        "y_pred_ridge = ridge_grid.predict(X_test)\n",
        "\n",
        "models['Ridge'] = ridge_grid.best_estimator_\n",
        "results['Ridge'] = {\n",
        "    'RMSE': np.sqrt(mean_squared_error(y_test, y_pred_ridge)),\n",
        "    'R2': r2_score(y_test, y_pred_ridge),\n",
        "    'Params': ridge_grid.best_params_\n",
        "}\n",
        "\n",
        "logger.info(f\"Ridge Regression evaluation complete. RMSE: {results['Ridge']['RMSE']:.4f}, R2: {results['Ridge']['R2']:.4f}, Best Params: {results['Ridge']['Params']}\")"
      ]
    },
    {
      "cell_type": "markdown",
      "id": "8923433a",
      "metadata": {
        "id": "8923433a"
      },
      "source": [
        "2. **Neural Network**"
      ]
    },
    {
      "cell_type": "code",
      "execution_count": null,
      "id": "5a98556b",
      "metadata": {
        "colab": {
          "base_uri": "https://localhost:8080/"
        },
        "id": "5a98556b",
        "outputId": "363eb4c8-43fe-4423-8183-bd9696dfed02"
      },
      "outputs": [
        {
          "name": "stdout",
          "output_type": "stream",
          "text": [
            "Epoch 1/50\n"
          ]
        },
        {
          "name": "stderr",
          "output_type": "stream",
          "text": [
            "/usr/local/lib/python3.11/dist-packages/keras/src/layers/core/dense.py:87: UserWarning: Do not pass an `input_shape`/`input_dim` argument to a layer. When using Sequential models, prefer using an `Input(shape)` object as the first layer in the model instead.\n",
            "  super().__init__(activity_regularizer=activity_regularizer, **kwargs)\n"
          ]
        },
        {
          "name": "stdout",
          "output_type": "stream",
          "text": [
            "\u001b[1m400/400\u001b[0m \u001b[32m━━━━━━━━━━━━━━━━━━━━\u001b[0m\u001b[37m\u001b[0m \u001b[1m4s\u001b[0m 4ms/step - loss: 1941.0184 - mse: 1941.0184 - val_loss: 866.3293 - val_mse: 866.3293\n",
            "Epoch 2/50\n",
            "\u001b[1m400/400\u001b[0m \u001b[32m━━━━━━━━━━━━━━━━━━━━\u001b[0m\u001b[37m\u001b[0m \u001b[1m3s\u001b[0m 4ms/step - loss: 724.2277 - mse: 724.2277 - val_loss: 205.8445 - val_mse: 205.8445\n",
            "Epoch 3/50\n",
            "\u001b[1m400/400\u001b[0m \u001b[32m━━━━━━━━━━━━━━━━━━━━\u001b[0m\u001b[37m\u001b[0m \u001b[1m2s\u001b[0m 3ms/step - loss: 188.7479 - mse: 188.7479 - val_loss: 29.9126 - val_mse: 29.9126\n",
            "Epoch 4/50\n",
            "\u001b[1m400/400\u001b[0m \u001b[32m━━━━━━━━━━━━━━━━━━━━\u001b[0m\u001b[37m\u001b[0m \u001b[1m3s\u001b[0m 3ms/step - loss: 79.1470 - mse: 79.1470 - val_loss: 17.0494 - val_mse: 17.0494\n",
            "Epoch 5/50\n",
            "\u001b[1m400/400\u001b[0m \u001b[32m━━━━━━━━━━━━━━━━━━━━\u001b[0m\u001b[37m\u001b[0m \u001b[1m2s\u001b[0m 3ms/step - loss: 81.9442 - mse: 81.9442 - val_loss: 15.4000 - val_mse: 15.4000\n",
            "Epoch 6/50\n",
            "\u001b[1m400/400\u001b[0m \u001b[32m━━━━━━━━━━━━━━━━━━━━\u001b[0m\u001b[37m\u001b[0m \u001b[1m1s\u001b[0m 3ms/step - loss: 72.7427 - mse: 72.7427 - val_loss: 14.2523 - val_mse: 14.2523\n",
            "Epoch 7/50\n",
            "\u001b[1m400/400\u001b[0m \u001b[32m━━━━━━━━━━━━━━━━━━━━\u001b[0m\u001b[37m\u001b[0m \u001b[1m1s\u001b[0m 3ms/step - loss: 74.0508 - mse: 74.0508 - val_loss: 13.7584 - val_mse: 13.7584\n",
            "Epoch 8/50\n",
            "\u001b[1m400/400\u001b[0m \u001b[32m━━━━━━━━━━━━━━━━━━━━\u001b[0m\u001b[37m\u001b[0m \u001b[1m3s\u001b[0m 5ms/step - loss: 69.7485 - mse: 69.7485 - val_loss: 13.1588 - val_mse: 13.1588\n",
            "Epoch 9/50\n",
            "\u001b[1m400/400\u001b[0m \u001b[32m━━━━━━━━━━━━━━━━━━━━\u001b[0m\u001b[37m\u001b[0m \u001b[1m2s\u001b[0m 4ms/step - loss: 69.6155 - mse: 69.6155 - val_loss: 12.0813 - val_mse: 12.0813\n",
            "Epoch 10/50\n",
            "\u001b[1m400/400\u001b[0m \u001b[32m━━━━━━━━━━━━━━━━━━━━\u001b[0m\u001b[37m\u001b[0m \u001b[1m2s\u001b[0m 3ms/step - loss: 70.4296 - mse: 70.4296 - val_loss: 12.3525 - val_mse: 12.3525\n",
            "Epoch 11/50\n",
            "\u001b[1m400/400\u001b[0m \u001b[32m━━━━━━━━━━━━━━━━━━━━\u001b[0m\u001b[37m\u001b[0m \u001b[1m1s\u001b[0m 3ms/step - loss: 64.1193 - mse: 64.1193 - val_loss: 10.8323 - val_mse: 10.8323\n",
            "Epoch 12/50\n",
            "\u001b[1m400/400\u001b[0m \u001b[32m━━━━━━━━━━━━━━━━━━━━\u001b[0m\u001b[37m\u001b[0m \u001b[1m1s\u001b[0m 3ms/step - loss: 67.1956 - mse: 67.1956 - val_loss: 11.1453 - val_mse: 11.1453\n",
            "Epoch 13/50\n",
            "\u001b[1m400/400\u001b[0m \u001b[32m━━━━━━━━━━━━━━━━━━━━\u001b[0m\u001b[37m\u001b[0m \u001b[1m1s\u001b[0m 3ms/step - loss: 67.0442 - mse: 67.0442 - val_loss: 10.6816 - val_mse: 10.6816\n",
            "Epoch 14/50\n",
            "\u001b[1m400/400\u001b[0m \u001b[32m━━━━━━━━━━━━━━━━━━━━\u001b[0m\u001b[37m\u001b[0m \u001b[1m1s\u001b[0m 3ms/step - loss: 65.3044 - mse: 65.3044 - val_loss: 9.9498 - val_mse: 9.9498\n",
            "Epoch 15/50\n",
            "\u001b[1m400/400\u001b[0m \u001b[32m━━━━━━━━━━━━━━━━━━━━\u001b[0m\u001b[37m\u001b[0m \u001b[1m1s\u001b[0m 3ms/step - loss: 64.9060 - mse: 64.9060 - val_loss: 8.9768 - val_mse: 8.9768\n",
            "Epoch 16/50\n",
            "\u001b[1m400/400\u001b[0m \u001b[32m━━━━━━━━━━━━━━━━━━━━\u001b[0m\u001b[37m\u001b[0m \u001b[1m3s\u001b[0m 5ms/step - loss: 59.3978 - mse: 59.3978 - val_loss: 9.6374 - val_mse: 9.6374\n",
            "Epoch 17/50\n",
            "\u001b[1m400/400\u001b[0m \u001b[32m━━━━━━━━━━━━━━━━━━━━\u001b[0m\u001b[37m\u001b[0m \u001b[1m2s\u001b[0m 3ms/step - loss: 66.7211 - mse: 66.7211 - val_loss: 9.5550 - val_mse: 9.5550\n",
            "Epoch 18/50\n",
            "\u001b[1m400/400\u001b[0m \u001b[32m━━━━━━━━━━━━━━━━━━━━\u001b[0m\u001b[37m\u001b[0m \u001b[1m3s\u001b[0m 3ms/step - loss: 63.5049 - mse: 63.5049 - val_loss: 10.2693 - val_mse: 10.2693\n",
            "Epoch 19/50\n",
            "\u001b[1m400/400\u001b[0m \u001b[32m━━━━━━━━━━━━━━━━━━━━\u001b[0m\u001b[37m\u001b[0m \u001b[1m2s\u001b[0m 3ms/step - loss: 63.1256 - mse: 63.1256 - val_loss: 9.3595 - val_mse: 9.3595\n",
            "Epoch 20/50\n",
            "\u001b[1m400/400\u001b[0m \u001b[32m━━━━━━━━━━━━━━━━━━━━\u001b[0m\u001b[37m\u001b[0m \u001b[1m1s\u001b[0m 3ms/step - loss: 59.2938 - mse: 59.2938 - val_loss: 8.2561 - val_mse: 8.2561\n",
            "Epoch 21/50\n",
            "\u001b[1m400/400\u001b[0m \u001b[32m━━━━━━━━━━━━━━━━━━━━\u001b[0m\u001b[37m\u001b[0m \u001b[1m3s\u001b[0m 4ms/step - loss: 63.1063 - mse: 63.1063 - val_loss: 10.1030 - val_mse: 10.1030\n",
            "Epoch 22/50\n",
            "\u001b[1m400/400\u001b[0m \u001b[32m━━━━━━━━━━━━━━━━━━━━\u001b[0m\u001b[37m\u001b[0m \u001b[1m2s\u001b[0m 3ms/step - loss: 62.6498 - mse: 62.6498 - val_loss: 13.4293 - val_mse: 13.4293\n",
            "Epoch 23/50\n",
            "\u001b[1m400/400\u001b[0m \u001b[32m━━━━━━━━━━━━━━━━━━━━\u001b[0m\u001b[37m\u001b[0m \u001b[1m1s\u001b[0m 3ms/step - loss: 65.7740 - mse: 65.7740 - val_loss: 8.1395 - val_mse: 8.1395\n",
            "Epoch 24/50\n",
            "\u001b[1m400/400\u001b[0m \u001b[32m━━━━━━━━━━━━━━━━━━━━\u001b[0m\u001b[37m\u001b[0m \u001b[1m1s\u001b[0m 3ms/step - loss: 62.1081 - mse: 62.1081 - val_loss: 9.2728 - val_mse: 9.2728\n",
            "Epoch 25/50\n",
            "\u001b[1m400/400\u001b[0m \u001b[32m━━━━━━━━━━━━━━━━━━━━\u001b[0m\u001b[37m\u001b[0m \u001b[1m1s\u001b[0m 3ms/step - loss: 63.5729 - mse: 63.5729 - val_loss: 9.4417 - val_mse: 9.4417\n",
            "Epoch 26/50\n",
            "\u001b[1m400/400\u001b[0m \u001b[32m━━━━━━━━━━━━━━━━━━━━\u001b[0m\u001b[37m\u001b[0m \u001b[1m1s\u001b[0m 3ms/step - loss: 64.1560 - mse: 64.1560 - val_loss: 8.7454 - val_mse: 8.7454\n",
            "Epoch 27/50\n",
            "\u001b[1m400/400\u001b[0m \u001b[32m━━━━━━━━━━━━━━━━━━━━\u001b[0m\u001b[37m\u001b[0m \u001b[1m1s\u001b[0m 3ms/step - loss: 62.5985 - mse: 62.5985 - val_loss: 10.3748 - val_mse: 10.3748\n",
            "Epoch 28/50\n",
            "\u001b[1m400/400\u001b[0m \u001b[32m━━━━━━━━━━━━━━━━━━━━\u001b[0m\u001b[37m\u001b[0m \u001b[1m1s\u001b[0m 3ms/step - loss: 61.0147 - mse: 61.0147 - val_loss: 7.9416 - val_mse: 7.9416\n",
            "Epoch 29/50\n",
            "\u001b[1m400/400\u001b[0m \u001b[32m━━━━━━━━━━━━━━━━━━━━\u001b[0m\u001b[37m\u001b[0m \u001b[1m1s\u001b[0m 3ms/step - loss: 67.6822 - mse: 67.6822 - val_loss: 7.4153 - val_mse: 7.4153\n",
            "Epoch 30/50\n",
            "\u001b[1m400/400\u001b[0m \u001b[32m━━━━━━━━━━━━━━━━━━━━\u001b[0m\u001b[37m\u001b[0m \u001b[1m2s\u001b[0m 5ms/step - loss: 60.8124 - mse: 60.8124 - val_loss: 8.5425 - val_mse: 8.5425\n",
            "Epoch 31/50\n",
            "\u001b[1m400/400\u001b[0m \u001b[32m━━━━━━━━━━━━━━━━━━━━\u001b[0m\u001b[37m\u001b[0m \u001b[1m3s\u001b[0m 6ms/step - loss: 57.4873 - mse: 57.4873 - val_loss: 7.8615 - val_mse: 7.8615\n",
            "Epoch 32/50\n",
            "\u001b[1m400/400\u001b[0m \u001b[32m━━━━━━━━━━━━━━━━━━━━\u001b[0m\u001b[37m\u001b[0m \u001b[1m2s\u001b[0m 5ms/step - loss: 65.3268 - mse: 65.3268 - val_loss: 9.1890 - val_mse: 9.1890\n",
            "Epoch 33/50\n",
            "\u001b[1m400/400\u001b[0m \u001b[32m━━━━━━━━━━━━━━━━━━━━\u001b[0m\u001b[37m\u001b[0m \u001b[1m2s\u001b[0m 5ms/step - loss: 64.2354 - mse: 64.2354 - val_loss: 7.3027 - val_mse: 7.3027\n",
            "Epoch 34/50\n",
            "\u001b[1m400/400\u001b[0m \u001b[32m━━━━━━━━━━━━━━━━━━━━\u001b[0m\u001b[37m\u001b[0m \u001b[1m2s\u001b[0m 3ms/step - loss: 58.5070 - mse: 58.5070 - val_loss: 7.8641 - val_mse: 7.8641\n",
            "Epoch 35/50\n",
            "\u001b[1m400/400\u001b[0m \u001b[32m━━━━━━━━━━━━━━━━━━━━\u001b[0m\u001b[37m\u001b[0m \u001b[1m3s\u001b[0m 4ms/step - loss: 59.6598 - mse: 59.6598 - val_loss: 9.1896 - val_mse: 9.1896\n",
            "Epoch 36/50\n",
            "\u001b[1m400/400\u001b[0m \u001b[32m━━━━━━━━━━━━━━━━━━━━\u001b[0m\u001b[37m\u001b[0m \u001b[1m2s\u001b[0m 3ms/step - loss: 60.7660 - mse: 60.7660 - val_loss: 8.9825 - val_mse: 8.9825\n",
            "Epoch 37/50\n",
            "\u001b[1m400/400\u001b[0m \u001b[32m━━━━━━━━━━━━━━━━━━━━\u001b[0m\u001b[37m\u001b[0m \u001b[1m1s\u001b[0m 3ms/step - loss: 65.9462 - mse: 65.9462 - val_loss: 10.9042 - val_mse: 10.9042\n",
            "Epoch 38/50\n",
            "\u001b[1m400/400\u001b[0m \u001b[32m━━━━━━━━━━━━━━━━━━━━\u001b[0m\u001b[37m\u001b[0m \u001b[1m1s\u001b[0m 3ms/step - loss: 60.3353 - mse: 60.3353 - val_loss: 9.2043 - val_mse: 9.2043\n",
            "\u001b[1m125/125\u001b[0m \u001b[32m━━━━━━━━━━━━━━━━━━━━\u001b[0m\u001b[37m\u001b[0m \u001b[1m0s\u001b[0m 1ms/step\n"
          ]
        }
      ],
      "source": [
        "# --- Define NN Architecture ---\n",
        "model = Sequential([\n",
        "    Dense(64, activation='relu', input_shape=(X_train.shape[1],)),\n",
        "    BatchNormalization(),\n",
        "    Dropout(0.2),\n",
        "    Dense(32, activation='relu'),\n",
        "    BatchNormalization(),\n",
        "    Dropout(0.2),\n",
        "    Dense(1)  # Linear output for regression\n",
        "])\n",
        "\n",
        "# --- Compile the Model ---\n",
        "model.compile(optimizer=Adam(learning_rate=0.001),\n",
        "              loss='mse',\n",
        "              metrics=['mse'])\n",
        "\n",
        "# --- Train with Early Stopping ---\n",
        "early_stop = EarlyStopping(monitor='val_loss', patience=5, restore_best_weights=True)\n",
        "history = model.fit(\n",
        "    X_train, y_train,\n",
        "    validation_split=0.2,\n",
        "    epochs=50,\n",
        "    batch_size=32,\n",
        "    callbacks=[early_stop],\n",
        "    verbose=1\n",
        ")\n",
        "\n",
        "# --- Extract Hyperparameters ---\n",
        "def get_model_params(model):\n",
        "    params = {}\n",
        "\n",
        "    # Optimizer parameters\n",
        "    if hasattr(model.optimizer, 'learning_rate'):\n",
        "        params['learning_rate'] = float(model.optimizer.learning_rate.numpy())\n",
        "\n",
        "    # Layer-specific parameters\n",
        "    for layer in model.layers:\n",
        "        if isinstance(layer, Dense):\n",
        "            params[f'dense_units_{layer.name}'] = layer.units\n",
        "            params[f'activation_{layer.name}'] = layer.activation.__name__\n",
        "        elif isinstance(layer, Dropout):\n",
        "            params[f'dropout_rate_{layer.name}'] = layer.rate\n",
        "        elif isinstance(layer, BatchNormalization):\n",
        "            params[f'batchnorm_{layer.name}'] = True\n",
        "\n",
        "        return params\n",
        "\n",
        "# --- Predict & Evaluate ---\n",
        "y_pred_nn = model.predict(X_test).flatten()\n",
        "\n",
        "# Store results\n",
        "models['Neural Network'] = model\n",
        "results['Neural Network'] = {\n",
        "    'RMSE': np.sqrt(mean_squared_error(y_test, y_pred_nn)),\n",
        "    'R2': r2_score(y_test, y_pred_nn),\n",
        "    'Params': get_model_params(model)\n",
        "}"
      ]
    },
    {
      "cell_type": "markdown",
      "id": "3a1b1301",
      "metadata": {
        "id": "3a1b1301"
      },
      "source": [
        "3. **XGBoost Rgressor**"
      ]
    },
    {
      "cell_type": "code",
      "execution_count": null,
      "id": "ce021392",
      "metadata": {
        "colab": {
          "base_uri": "https://localhost:8080/"
        },
        "id": "ce021392",
        "outputId": "bb210d56-b1b6-41df-efbb-bf29ae0ab7ed"
      },
      "outputs": [
        {
          "name": "stdout",
          "output_type": "stream",
          "text": [
            "Fitting 3 folds for each of 72 candidates, totalling 216 fits\n"
          ]
        }
      ],
      "source": [
        "# 3. XGBoost Regressor\n",
        "xgb = XGBRegressor(objective='reg:squarederror', random_state=42)\n",
        "# Define the parameter grid\n",
        "param_grid = {\n",
        "    'n_estimators': [100, 200],\n",
        "    'learning_rate': [0.01, 0.05, 0.1],\n",
        "    'max_depth': [3, 5, 7],\n",
        "    'subsample': [0.8, 1.0],\n",
        "    'colsample_bytree': [0.8, 1.0]\n",
        "}\n",
        "\n",
        "# Initialize base model\n",
        "xgb_base = XGBRegressor(random_state=42)\n",
        "\n",
        "# Grid search with 3-fold cross-validation\n",
        "grid_search = GridSearchCV(\n",
        "    estimator=xgb_base,\n",
        "    param_grid=param_grid,\n",
        "    scoring='neg_mean_squared_error',\n",
        "    cv=3,\n",
        "    verbose=1,\n",
        "    n_jobs=-1\n",
        ")\n",
        "\n",
        "grid_search.fit(X_train, y_train)\n",
        "\n",
        "best_model = grid_search.best_estimator_\n",
        "y_pred_xgb = best_model.predict(X_test)\n",
        "\n",
        "models['XGBoost'] = grid_search.best_params_\n",
        "results['XGBoost'] = {\n",
        "    'RMSE': np.sqrt(mean_squared_error(y_test, y_pred_xgb)),\n",
        "    'R2': r2_score(y_test, y_pred_xgb),\n",
        "    'Params': grid_search.best_params_\n",
        "}"
      ]
    },
    {
      "cell_type": "markdown",
      "id": "f0cc4ec0",
      "metadata": {
        "id": "f0cc4ec0"
      },
      "source": [
        "**Models Evaluation and Comparison**"
      ]
    },
    {
      "cell_type": "code",
      "execution_count": null,
      "id": "534745d5",
      "metadata": {
        "colab": {
          "base_uri": "https://localhost:8080/",
          "height": 733
        },
        "id": "534745d5",
        "outputId": "e06c9fda-d9bb-4c54-d889-02846c6b5902"
      },
      "outputs": [
        {
          "name": "stdout",
          "output_type": "stream",
          "text": [
            "Model Comparison:\n",
            "Ridge:\n",
            "  RMSE        = 7.65\n",
            "  R²          = 0.9321\n",
            "  Params = {'alpha': 0.1}\n",
            "Neural Network:\n",
            "  RMSE        = 2.62\n",
            "  R²          = 0.9920\n",
            "  Params = {'learning_rate': 0.0010000000474974513, 'dense_units_dense_11': 64, 'activation_dense_11': 'relu'}\n",
            "XGBoost:\n",
            "  RMSE        = 1.48\n",
            "  R²          = 0.9975\n",
            "  Params = {'colsample_bytree': 1.0, 'learning_rate': 0.1, 'max_depth': 5, 'n_estimators': 200, 'subsample': 0.8}\n"
          ]
        },
        {
          "data": {
            "image/png": "[encoded data removed]",
            "text/plain": [
              "<Figure size 1000x500 with 2 Axes>"
            ]
          },
          "metadata": {},
          "output_type": "display_data"
        }
      ],
      "source": [
        "print(\"Model Comparison:\")\n",
        "for model_name, metrics in results.items():\n",
        "    print(f\"{model_name}:\")\n",
        "    print(f\"  RMSE        = {metrics['RMSE']:.2f}\")\n",
        "    print(f\"  R²          = {metrics['R2']:.4f}\")\n",
        "    print(f\"  Params = {metrics['Params']}\")\n",
        "\n",
        "# %%\n",
        "# Extract metrics\n",
        "model_names = list(results.keys())\n",
        "rmse_values = [results[model]['RMSE'] for model in model_names]\n",
        "r2_values = [results[model]['R2'] for model in model_names]\n",
        "\n",
        "# Plot RMSE\n",
        "plt.figure(figsize=(10, 5))\n",
        "plt.subplot(1, 2, 1)\n",
        "plt.bar(model_names, rmse_values, color=['skyblue', 'lightgreen', 'salmon'])\n",
        "plt.title('RMSE Comparison')\n",
        "plt.ylabel('RMSE (Lower is Better)')\n",
        "plt.xticks(rotation=45)\n",
        "\n",
        "# Plot R²\n",
        "plt.subplot(1, 2, 2)\n",
        "plt.bar(model_names, r2_values, color=['skyblue', 'lightgreen', 'salmon'])\n",
        "plt.title('R² Comparison')\n",
        "plt.ylabel('R² (Higher is Better)')\n",
        "plt.xticks(rotation=45)\n",
        "\n",
        "plt.tight_layout()\n",
        "plt.show()\n"
      ]
    },
    {
      "cell_type": "markdown",
      "id": "b30e4920-560f-46c6-898b-c24699a448fb",
      "metadata": {
        "id": "b30e4920-560f-46c6-898b-c24699a448fb"
      },
      "source": [
        "## **liver_disease Progression**"
      ]
    },
    {
      "cell_type": "markdown",
      "id": "ba4be4bb-6ec1-4005-9242-5c0478d80d56",
      "metadata": {
        "id": "ba4be4bb-6ec1-4005-9242-5c0478d80d56"
      },
      "source": [
        "### Model Training and Evaluation"
      ]
    },
    {
      "cell_type": "code",
      "execution_count": null,
      "id": "02042945",
      "metadata": {
        "id": "02042945"
      },
      "outputs": [],
      "source": [
        "X_train = X_train_scaled\n",
        "X_test = X_test_scaled"
      ]
    },
    {
      "cell_type": "code",
      "execution_count": null,
      "id": "af58bf64",
      "metadata": {
        "id": "af58bf64"
      },
      "outputs": [],
      "source": [
        "# Store models and results to compare later\n",
        "models = {}\n",
        "results = {}"
      ]
    },
    {
      "cell_type": "markdown",
      "id": "ovhMlGEYrYas",
      "metadata": {
        "id": "ovhMlGEYrYas"
      },
      "source": [
        "1. **Linear Regression with Ridge Regularization**"
      ]
    },
    {
      "cell_type": "code",
      "execution_count": null,
      "id": "3f9ee63c",
      "metadata": {
        "colab": {
          "base_uri": "https://localhost:8080/"
        },
        "id": "3f9ee63c",
        "outputId": "13664532-cfde-40b3-bcbe-f7ba9af19fba"
      },
      "outputs": [
        {
          "name": "stderr",
          "output_type": "stream",
          "text": [
            "2025-05-08 16:04:03,736 - INFO - Ridge Regression evaluation complete. RMSE: 9.3778, R2: 0.8698, Best Params: {'alpha': 0.1}\n"
          ]
        }
      ],
      "source": [
        "# 1. Ridge Regression\n",
        "ridge = Ridge()\n",
        "ridge_params = {\n",
        "    'alpha': [0.01, 0.1, 1, 10, 100]\n",
        "}\n",
        "ridge_grid = GridSearchCV(ridge, ridge_params, cv=5, scoring='neg_mean_squared_error')\n",
        "ridge_grid.fit(X_train, y_train)\n",
        "y_pred_ridge = ridge_grid.predict(X_test)\n",
        "\n",
        "models['Ridge'] = ridge_grid.best_estimator_\n",
        "results['Ridge'] = {\n",
        "    'RMSE': np.sqrt(mean_squared_error(y_test, y_pred_ridge)),\n",
        "    'R2': r2_score(y_test, y_pred_ridge),\n",
        "    'Params': ridge_grid.best_params_\n",
        "}\n",
        "\n",
        "logger.info(f\"Ridge Regression evaluation complete. RMSE: {results['Ridge']['RMSE']:.4f}, R2: {results['Ridge']['R2']:.4f}, Best Params: {results['Ridge']['Params']}\")\n"
      ]
    },
    {
      "cell_type": "markdown",
      "id": "596a7285",
      "metadata": {
        "id": "596a7285"
      },
      "source": [
        "2. **Neural Network**"
      ]
    },
    {
      "cell_type": "code",
      "execution_count": null,
      "id": "3d864dc0",
      "metadata": {
        "colab": {
          "base_uri": "https://localhost:8080/"
        },
        "id": "3d864dc0",
        "outputId": "657e0aaf-1726-48d1-ce95-47e00452ac12"
      },
      "outputs": [
        {
          "name": "stdout",
          "output_type": "stream",
          "text": [
            "Epoch 1/50\n"
          ]
        },
        {
          "name": "stderr",
          "output_type": "stream",
          "text": [
            "/usr/local/lib/python3.11/dist-packages/keras/src/layers/core/dense.py:87: UserWarning: Do not pass an `input_shape`/`input_dim` argument to a layer. When using Sequential models, prefer using an `Input(shape)` object as the first layer in the model instead.\n",
            "  super().__init__(activity_regularizer=activity_regularizer, **kwargs)\n"
          ]
        },
        {
          "name": "stdout",
          "output_type": "stream",
          "text": [
            "\u001b[1m400/400\u001b[0m \u001b[32m━━━━━━━━━━━━━━━━━━━━\u001b[0m\u001b[37m\u001b[0m \u001b[1m4s\u001b[0m 4ms/step - loss: 1444.9980 - mse: 1444.9980 - val_loss: 608.5887 - val_mse: 608.5887\n",
            "Epoch 2/50\n",
            "\u001b[1m400/400\u001b[0m \u001b[32m━━━━━━━━━━━━━━━━━━━━\u001b[0m\u001b[37m\u001b[0m \u001b[1m1s\u001b[0m 3ms/step - loss: 486.1466 - mse: 486.1466 - val_loss: 142.4138 - val_mse: 142.4138\n",
            "Epoch 3/50\n",
            "\u001b[1m400/400\u001b[0m \u001b[32m━━━━━━━━━━━━━━━━━━━━\u001b[0m\u001b[37m\u001b[0m \u001b[1m3s\u001b[0m 5ms/step - loss: 117.2219 - mse: 117.2219 - val_loss: 43.3887 - val_mse: 43.3887\n",
            "Epoch 4/50\n",
            "\u001b[1m400/400\u001b[0m \u001b[32m━━━━━━━━━━━━━━━━━━━━\u001b[0m\u001b[37m\u001b[0m \u001b[1m1s\u001b[0m 4ms/step - loss: 77.3310 - mse: 77.3310 - val_loss: 30.6032 - val_mse: 30.6032\n",
            "Epoch 5/50\n",
            "\u001b[1m400/400\u001b[0m \u001b[32m━━━━━━━━━━━━━━━━━━━━\u001b[0m\u001b[37m\u001b[0m \u001b[1m2s\u001b[0m 3ms/step - loss: 77.6233 - mse: 77.6233 - val_loss: 22.9464 - val_mse: 22.9464\n",
            "Epoch 6/50\n",
            "\u001b[1m400/400\u001b[0m \u001b[32m━━━━━━━━━━━━━━━━━━━━\u001b[0m\u001b[37m\u001b[0m \u001b[1m1s\u001b[0m 3ms/step - loss: 72.7571 - mse: 72.7571 - val_loss: 21.3589 - val_mse: 21.3589\n",
            "Epoch 7/50\n",
            "\u001b[1m400/400\u001b[0m \u001b[32m━━━━━━━━━━━━━━━━━━━━\u001b[0m\u001b[37m\u001b[0m \u001b[1m1s\u001b[0m 3ms/step - loss: 64.7026 - mse: 64.7026 - val_loss: 21.6057 - val_mse: 21.6057\n",
            "Epoch 8/50\n",
            "\u001b[1m400/400\u001b[0m \u001b[32m━━━━━━━━━━━━━━━━━━━━\u001b[0m\u001b[37m\u001b[0m \u001b[1m1s\u001b[0m 3ms/step - loss: 63.9824 - mse: 63.9824 - val_loss: 21.1841 - val_mse: 21.1841\n",
            "Epoch 9/50\n",
            "\u001b[1m400/400\u001b[0m \u001b[32m━━━━━━━━━━━━━━━━━━━━\u001b[0m\u001b[37m\u001b[0m \u001b[1m1s\u001b[0m 3ms/step - loss: 64.4170 - mse: 64.4170 - val_loss: 19.9203 - val_mse: 19.9203\n",
            "Epoch 10/50\n",
            "\u001b[1m400/400\u001b[0m \u001b[32m━━━━━━━━━━━━━━━━━━━━\u001b[0m\u001b[37m\u001b[0m \u001b[1m1s\u001b[0m 3ms/step - loss: 58.5380 - mse: 58.5380 - val_loss: 18.1369 - val_mse: 18.1369\n",
            "Epoch 11/50\n",
            "\u001b[1m400/400\u001b[0m \u001b[32m━━━━━━━━━━━━━━━━━━━━\u001b[0m\u001b[37m\u001b[0m \u001b[1m2s\u001b[0m 4ms/step - loss: 60.6436 - mse: 60.6436 - val_loss: 19.0166 - val_mse: 19.0166\n",
            "Epoch 12/50\n",
            "\u001b[1m400/400\u001b[0m \u001b[32m━━━━━━━━━━━━━━━━━━━━\u001b[0m\u001b[37m\u001b[0m \u001b[1m2s\u001b[0m 3ms/step - loss: 60.5278 - mse: 60.5278 - val_loss: 17.4932 - val_mse: 17.4932\n",
            "Epoch 13/50\n",
            "\u001b[1m400/400\u001b[0m \u001b[32m━━━━━━━━━━━━━━━━━━━━\u001b[0m\u001b[37m\u001b[0m \u001b[1m1s\u001b[0m 3ms/step - loss: 60.5858 - mse: 60.5858 - val_loss: 19.7610 - val_mse: 19.7610\n",
            "Epoch 14/50\n",
            "\u001b[1m400/400\u001b[0m \u001b[32m━━━━━━━━━━━━━━━━━━━━\u001b[0m\u001b[37m\u001b[0m \u001b[1m1s\u001b[0m 3ms/step - loss: 57.0378 - mse: 57.0378 - val_loss: 18.1711 - val_mse: 18.1711\n",
            "Epoch 15/50\n",
            "\u001b[1m400/400\u001b[0m \u001b[32m━━━━━━━━━━━━━━━━━━━━\u001b[0m\u001b[37m\u001b[0m \u001b[1m1s\u001b[0m 3ms/step - loss: 59.9614 - mse: 59.9614 - val_loss: 20.8753 - val_mse: 20.8753\n",
            "Epoch 16/50\n",
            "\u001b[1m400/400\u001b[0m \u001b[32m━━━━━━━━━━━━━━━━━━━━\u001b[0m\u001b[37m\u001b[0m \u001b[1m1s\u001b[0m 3ms/step - loss: 61.2297 - mse: 61.2297 - val_loss: 18.0387 - val_mse: 18.0387\n",
            "Epoch 17/50\n",
            "\u001b[1m400/400\u001b[0m \u001b[32m━━━━━━━━━━━━━━━━━━━━\u001b[0m\u001b[37m\u001b[0m \u001b[1m1s\u001b[0m 3ms/step - loss: 54.6528 - mse: 54.6528 - val_loss: 25.3840 - val_mse: 25.3840\n",
            "\u001b[1m125/125\u001b[0m \u001b[32m━━━━━━━━━━━━━━━━━━━━\u001b[0m\u001b[37m\u001b[0m \u001b[1m0s\u001b[0m 1ms/step\n"
          ]
        }
      ],
      "source": [
        "# --- Define NN Architecture ---\n",
        "model = Sequential([\n",
        "    Dense(64, activation='relu', input_shape=(X_train.shape[1],)),\n",
        "    BatchNormalization(),\n",
        "    Dropout(0.2),\n",
        "    Dense(32, activation='relu'),\n",
        "    BatchNormalization(),\n",
        "    Dropout(0.2),\n",
        "    Dense(1)  # Linear output for regression\n",
        "])\n",
        "\n",
        "# --- Compile the Model ---\n",
        "model.compile(optimizer=Adam(learning_rate=0.001),\n",
        "              loss='mse',\n",
        "              metrics=['mse'])\n",
        "\n",
        "# --- Train with Early Stopping ---\n",
        "early_stop = EarlyStopping(monitor='val_loss', patience=5, restore_best_weights=True)\n",
        "history = model.fit(\n",
        "    X_train, y_train,\n",
        "    validation_split=0.2,\n",
        "    epochs=50,\n",
        "    batch_size=32,\n",
        "    callbacks=[early_stop],\n",
        "    verbose=1\n",
        ")\n",
        "\n",
        "# --- Extract Hyperparameters ---\n",
        "def get_model_params(model):\n",
        "    params = {}\n",
        "\n",
        "    # Optimizer parameters\n",
        "    if hasattr(model.optimizer, 'learning_rate'):\n",
        "        params['learning_rate'] = float(model.optimizer.learning_rate.numpy())\n",
        "\n",
        "    # Layer-specific parameters\n",
        "    for layer in model.layers:\n",
        "        if isinstance(layer, Dense):\n",
        "            params[f'dense_units_{layer.name}'] = layer.units\n",
        "            params[f'activation_{layer.name}'] = layer.activation.__name__\n",
        "        elif isinstance(layer, Dropout):\n",
        "            params[f'dropout_rate_{layer.name}'] = layer.rate\n",
        "        elif isinstance(layer, BatchNormalization):\n",
        "            params[f'batchnorm_{layer.name}'] = True\n",
        "\n",
        "        return params\n",
        "\n",
        "# --- Predict & Evaluate ---\n",
        "y_pred_nn = model.predict(X_test).flatten()\n",
        "\n",
        "# Store results\n",
        "models['Neural Network'] = model\n",
        "results['Neural Network'] = {\n",
        "    'RMSE': np.sqrt(mean_squared_error(y_test, y_pred_nn)),\n",
        "    'R2': r2_score(y_test, y_pred_nn),\n",
        "    'Params': get_model_params(model)\n",
        "}"
      ]
    },
    {
      "cell_type": "markdown",
      "id": "5b3484bb",
      "metadata": {
        "id": "5b3484bb"
      },
      "source": [
        "3. **XGBoost Regressor**"
      ]
    },
    {
      "cell_type": "code",
      "execution_count": null,
      "id": "90a61bdc",
      "metadata": {
        "colab": {
          "base_uri": "https://localhost:8080/"
        },
        "id": "90a61bdc",
        "outputId": "25d937e8-6d9e-45bb-a58b-66277b573259"
      },
      "outputs": [
        {
          "name": "stdout",
          "output_type": "stream",
          "text": [
            "Fitting 3 folds for each of 72 candidates, totalling 216 fits\n"
          ]
        }
      ],
      "source": [
        "# 3. XGBoost Regressor\n",
        "xgb = XGBRegressor(objective='reg:squarederror', random_state=42)\n",
        "# Define the parameter grid\n",
        "param_grid = {\n",
        "    'n_estimators': [100, 200],\n",
        "    'learning_rate': [0.01, 0.05, 0.1],\n",
        "    'max_depth': [3, 5, 7],\n",
        "    'subsample': [0.8, 1.0],\n",
        "    'colsample_bytree': [0.8, 1.0]\n",
        "}\n",
        "\n",
        "# Initialize base model\n",
        "xgb_base = XGBRegressor(random_state=42)\n",
        "\n",
        "# Grid search with 3-fold cross-validation\n",
        "grid_search = GridSearchCV(\n",
        "    estimator=xgb_base,\n",
        "    param_grid=param_grid,\n",
        "    scoring='neg_mean_squared_error',\n",
        "    cv=3,\n",
        "    verbose=1,\n",
        "    n_jobs=-1\n",
        ")\n",
        "\n",
        "grid_search.fit(X_train, y_train)\n",
        "\n",
        "best_model = grid_search.best_estimator_\n",
        "y_pred_xgb = best_model.predict(X_test)\n",
        "\n",
        "models['XGBoost'] = grid_search.best_params_\n",
        "results['XGBoost'] = {\n",
        "    'RMSE': np.sqrt(mean_squared_error(y_test, y_pred_xgb)),\n",
        "    'R2': r2_score(y_test, y_pred_xgb),\n",
        "    'Params': grid_search.best_params_\n",
        "}"
      ]
    },
    {
      "cell_type": "markdown",
      "id": "17e3ad76",
      "metadata": {
        "id": "17e3ad76"
      },
      "source": [
        "**Models Comparison**"
      ]
    },
    {
      "cell_type": "code",
      "execution_count": null,
      "id": "6ea7011d",
      "metadata": {
        "colab": {
          "base_uri": "https://localhost:8080/",
          "height": 733
        },
        "id": "6ea7011d",
        "outputId": "6dcbf556-3b60-443a-d462-3328570d085a"
      },
      "outputs": [
        {
          "name": "stdout",
          "output_type": "stream",
          "text": [
            "Model Comparison:\n",
            "Ridge:\n",
            "  RMSE        = 9.38\n",
            "  R²          = 0.8698\n",
            "  Params = {'alpha': 0.1}\n",
            "Neural Network:\n",
            "  RMSE        = 3.82\n",
            "  R²          = 0.9784\n",
            "  Params = {'learning_rate': 0.0010000000474974513, 'dense_units_dense_14': 64, 'activation_dense_14': 'relu'}\n",
            "XGBoost:\n",
            "  RMSE        = 2.13\n",
            "  R²          = 0.9933\n",
            "  Params = {'colsample_bytree': 1.0, 'learning_rate': 0.05, 'max_depth': 7, 'n_estimators': 200, 'subsample': 0.8}\n"
          ]
        },
        {
          "data": {
            "image/png": "[encoded data removed]",
            "text/plain": [
              "<Figure size 1000x500 with 2 Axes>"
            ]
          },
          "metadata": {},
          "output_type": "display_data"
        }
      ],
      "source": [
        "print(\"Model Comparison:\")\n",
        "for model_name, metrics in results.items():\n",
        "    print(f\"{model_name}:\")\n",
        "    print(f\"  RMSE        = {metrics['RMSE']:.2f}\")\n",
        "    print(f\"  R²          = {metrics['R2']:.4f}\")\n",
        "    print(f\"  Params = {metrics['Params']}\")\n",
        "\n",
        "# Extract metrics\n",
        "model_names = list(results.keys())\n",
        "rmse_values = [results[model]['RMSE'] for model in model_names]\n",
        "r2_values = [results[model]['R2'] for model in model_names]\n",
        "\n",
        "# Plot RMSE\n",
        "plt.figure(figsize=(10, 5))\n",
        "plt.subplot(1, 2, 1)\n",
        "plt.bar(model_names, rmse_values, color=['skyblue', 'lightgreen', 'salmon'])\n",
        "plt.title('RMSE Comparison')\n",
        "plt.ylabel('RMSE (Lower is Better)')\n",
        "plt.xticks(rotation=45)\n",
        "\n",
        "# Plot R²\n",
        "plt.subplot(1, 2, 2)\n",
        "plt.bar(model_names, r2_values, color=['skyblue', 'lightgreen', 'salmon'])\n",
        "plt.title('R² Comparison')\n",
        "plt.ylabel('R² (Higher is Better)')\n",
        "plt.xticks(rotation=45)\n",
        "\n",
        "plt.tight_layout()\n",
        "plt.show()\n"
      ]
    },
    {
      "cell_type": "markdown",
      "id": "e1a63d1a-e8fe-4417-9c3d-51ae345e9f65",
      "metadata": {
        "id": "e1a63d1a-e8fe-4417-9c3d-51ae345e9f65"
      },
      "source": [
        "## **Heart_disease**"
      ]
    },
    {
      "cell_type": "markdown",
      "id": "0d6a0323-d071-4639-a856-457b801c43c3",
      "metadata": {
        "id": "0d6a0323-d071-4639-a856-457b801c43c3"
      },
      "source": [
        "### Model Training and Evaluation"
      ]
    },
    {
      "cell_type": "code",
      "execution_count": null,
      "id": "5539a4e1",
      "metadata": {
        "id": "5539a4e1"
      },
      "outputs": [],
      "source": [
        "X_train = X_train_scaled\n",
        "X_test = X_test_scaled"
      ]
    },
    {
      "cell_type": "code",
      "execution_count": null,
      "id": "edf4315c",
      "metadata": {
        "id": "edf4315c"
      },
      "outputs": [],
      "source": [
        "# Store models and results to compare later\n",
        "models = {}\n",
        "results = {}"
      ]
    },
    {
      "cell_type": "markdown",
      "id": "8d7c200b",
      "metadata": {
        "id": "8d7c200b"
      },
      "source": [
        "1. **Linear Regression with Ridge regularization**"
      ]
    },
    {
      "cell_type": "code",
      "execution_count": null,
      "id": "5f221923",
      "metadata": {
        "colab": {
          "base_uri": "https://localhost:8080/"
        },
        "id": "5f221923",
        "outputId": "524207b7-49e0-4c55-a5b5-af70947583c5"
      },
      "outputs": [
        {
          "name": "stderr",
          "output_type": "stream",
          "text": [
            "2025-05-08 16:04:57,256 - INFO - Ridge Regression evaluation complete. RMSE: 11.3340, R2: 0.8552, Best Params: {'alpha': 1}\n"
          ]
        }
      ],
      "source": [
        "ridge = Ridge()\n",
        "ridge_params = {\n",
        "    'alpha': [0.01, 0.1, 1, 10, 100]\n",
        "}\n",
        "ridge_grid = GridSearchCV(ridge, ridge_params, cv=5, scoring='neg_mean_squared_error')\n",
        "ridge_grid.fit(X_train, y_train)\n",
        "y_pred_ridge = ridge_grid.predict(X_test)\n",
        "\n",
        "models['Ridge'] = ridge_grid.best_estimator_\n",
        "results['Ridge'] = {\n",
        "    'RMSE': np.sqrt(mean_squared_error(y_test, y_pred_ridge)),\n",
        "    'R2': r2_score(y_test, y_pred_ridge),\n",
        "    'Params': ridge_grid.best_params_\n",
        "}\n",
        "\n",
        "logger.info(f\"Ridge Regression evaluation complete. RMSE: {results['Ridge']['RMSE']:.4f}, R2: {results['Ridge']['R2']:.4f}, Best Params: {results['Ridge']['Params']}\")"
      ]
    },
    {
      "cell_type": "markdown",
      "id": "39a75ada",
      "metadata": {
        "id": "39a75ada"
      },
      "source": [
        "2. **Neural Network**"
      ]
    },
    {
      "cell_type": "code",
      "execution_count": null,
      "id": "84c1aff0",
      "metadata": {
        "colab": {
          "base_uri": "https://localhost:8080/"
        },
        "id": "84c1aff0",
        "outputId": "69628b2c-4f7a-496b-8baf-84cfcfdfe577"
      },
      "outputs": [
        {
          "name": "stdout",
          "output_type": "stream",
          "text": [
            "Epoch 1/50\n"
          ]
        },
        {
          "name": "stderr",
          "output_type": "stream",
          "text": [
            "/usr/local/lib/python3.11/dist-packages/keras/src/layers/core/dense.py:87: UserWarning: Do not pass an `input_shape`/`input_dim` argument to a layer. When using Sequential models, prefer using an `Input(shape)` object as the first layer in the model instead.\n",
            "  super().__init__(activity_regularizer=activity_regularizer, **kwargs)\n"
          ]
        },
        {
          "name": "stdout",
          "output_type": "stream",
          "text": [
            "\u001b[1m400/400\u001b[0m \u001b[32m━━━━━━━━━━━━━━━━━━━━\u001b[0m\u001b[37m\u001b[0m \u001b[1m4s\u001b[0m 4ms/step - loss: 1862.8135 - mse: 1862.8135 - val_loss: 827.4894 - val_mse: 827.4894\n",
            "Epoch 2/50\n",
            "\u001b[1m400/400\u001b[0m \u001b[32m━━━━━━━━━━━━━━━━━━━━\u001b[0m\u001b[37m\u001b[0m \u001b[1m2s\u001b[0m 5ms/step - loss: 661.1460 - mse: 661.1460 - val_loss: 263.6336 - val_mse: 263.6336\n",
            "Epoch 3/50\n",
            "\u001b[1m400/400\u001b[0m \u001b[32m━━━━━━━━━━━━━━━━━━━━\u001b[0m\u001b[37m\u001b[0m \u001b[1m1s\u001b[0m 3ms/step - loss: 209.7610 - mse: 209.7610 - val_loss: 55.0990 - val_mse: 55.0990\n",
            "Epoch 4/50\n",
            "\u001b[1m400/400\u001b[0m \u001b[32m━━━━━━━━━━━━━━━━━━━━\u001b[0m\u001b[37m\u001b[0m \u001b[1m2s\u001b[0m 3ms/step - loss: 113.8728 - mse: 113.8728 - val_loss: 53.4861 - val_mse: 53.4861\n",
            "Epoch 5/50\n",
            "\u001b[1m400/400\u001b[0m \u001b[32m━━━━━━━━━━━━━━━━━━━━\u001b[0m\u001b[37m\u001b[0m \u001b[1m3s\u001b[0m 3ms/step - loss: 105.5406 - mse: 105.5406 - val_loss: 53.0570 - val_mse: 53.0570\n",
            "Epoch 6/50\n",
            "\u001b[1m400/400\u001b[0m \u001b[32m━━━━━━━━━━━━━━━━━━━━\u001b[0m\u001b[37m\u001b[0m \u001b[1m1s\u001b[0m 3ms/step - loss: 106.1163 - mse: 106.1163 - val_loss: 51.2633 - val_mse: 51.2633\n",
            "Epoch 7/50\n",
            "\u001b[1m400/400\u001b[0m \u001b[32m━━━━━━━━━━━━━━━━━━━━\u001b[0m\u001b[37m\u001b[0m \u001b[1m1s\u001b[0m 3ms/step - loss: 103.7138 - mse: 103.7138 - val_loss: 52.4780 - val_mse: 52.4780\n",
            "Epoch 8/50\n",
            "\u001b[1m400/400\u001b[0m \u001b[32m━━━━━━━━━━━━━━━━━━━━\u001b[0m\u001b[37m\u001b[0m \u001b[1m1s\u001b[0m 3ms/step - loss: 93.7962 - mse: 93.7962 - val_loss: 52.1359 - val_mse: 52.1359\n",
            "Epoch 9/50\n",
            "\u001b[1m400/400\u001b[0m \u001b[32m━━━━━━━━━━━━━━━━━━━━\u001b[0m\u001b[37m\u001b[0m \u001b[1m2s\u001b[0m 5ms/step - loss: 101.4948 - mse: 101.4948 - val_loss: 51.6504 - val_mse: 51.6504\n",
            "Epoch 10/50\n",
            "\u001b[1m400/400\u001b[0m \u001b[32m━━━━━━━━━━━━━━━━━━━━\u001b[0m\u001b[37m\u001b[0m \u001b[1m2s\u001b[0m 4ms/step - loss: 101.4893 - mse: 101.4893 - val_loss: 51.0880 - val_mse: 51.0880\n",
            "Epoch 11/50\n",
            "\u001b[1m400/400\u001b[0m \u001b[32m━━━━━━━━━━━━━━━━━━━━\u001b[0m\u001b[37m\u001b[0m \u001b[1m1s\u001b[0m 3ms/step - loss: 99.6002 - mse: 99.6002 - val_loss: 51.5813 - val_mse: 51.5813\n",
            "Epoch 12/50\n",
            "\u001b[1m400/400\u001b[0m \u001b[32m━━━━━━━━━━━━━━━━━━━━\u001b[0m\u001b[37m\u001b[0m \u001b[1m1s\u001b[0m 3ms/step - loss: 95.3251 - mse: 95.3251 - val_loss: 51.9975 - val_mse: 51.9975\n",
            "Epoch 13/50\n",
            "\u001b[1m400/400\u001b[0m \u001b[32m━━━━━━━━━━━━━━━━━━━━\u001b[0m\u001b[37m\u001b[0m \u001b[1m1s\u001b[0m 3ms/step - loss: 100.5005 - mse: 100.5005 - val_loss: 52.0541 - val_mse: 52.0541\n",
            "Epoch 14/50\n",
            "\u001b[1m400/400\u001b[0m \u001b[32m━━━━━━━━━━━━━━━━━━━━\u001b[0m\u001b[37m\u001b[0m \u001b[1m1s\u001b[0m 3ms/step - loss: 92.3416 - mse: 92.3416 - val_loss: 51.8554 - val_mse: 51.8554\n",
            "Epoch 15/50\n",
            "\u001b[1m400/400\u001b[0m \u001b[32m━━━━━━━━━━━━━━━━━━━━\u001b[0m\u001b[37m\u001b[0m \u001b[1m1s\u001b[0m 3ms/step - loss: 96.3521 - mse: 96.3521 - val_loss: 51.0238 - val_mse: 51.0238\n",
            "Epoch 16/50\n",
            "\u001b[1m400/400\u001b[0m \u001b[32m━━━━━━━━━━━━━━━━━━━━\u001b[0m\u001b[37m\u001b[0m \u001b[1m1s\u001b[0m 3ms/step - loss: 96.5253 - mse: 96.5253 - val_loss: 50.2379 - val_mse: 50.2379\n",
            "Epoch 17/50\n",
            "\u001b[1m400/400\u001b[0m \u001b[32m━━━━━━━━━━━━━━━━━━━━\u001b[0m\u001b[37m\u001b[0m \u001b[1m3s\u001b[0m 4ms/step - loss: 97.5451 - mse: 97.5451 - val_loss: 50.9174 - val_mse: 50.9174\n",
            "Epoch 18/50\n",
            "\u001b[1m400/400\u001b[0m \u001b[32m━━━━━━━━━━━━━━━━━━━━\u001b[0m\u001b[37m\u001b[0m \u001b[1m2s\u001b[0m 3ms/step - loss: 93.2125 - mse: 93.2125 - val_loss: 53.0734 - val_mse: 53.0734\n",
            "Epoch 19/50\n",
            "\u001b[1m400/400\u001b[0m \u001b[32m━━━━━━━━━━━━━━━━━━━━\u001b[0m\u001b[37m\u001b[0m \u001b[1m1s\u001b[0m 3ms/step - loss: 94.4479 - mse: 94.4479 - val_loss: 50.3444 - val_mse: 50.3444\n",
            "Epoch 20/50\n",
            "\u001b[1m400/400\u001b[0m \u001b[32m━━━━━━━━━━━━━━━━━━━━\u001b[0m\u001b[37m\u001b[0m \u001b[1m1s\u001b[0m 3ms/step - loss: 98.7370 - mse: 98.7370 - val_loss: 50.1311 - val_mse: 50.1311\n",
            "Epoch 21/50\n",
            "\u001b[1m400/400\u001b[0m \u001b[32m━━━━━━━━━━━━━━━━━━━━\u001b[0m\u001b[37m\u001b[0m \u001b[1m1s\u001b[0m 3ms/step - loss: 98.3226 - mse: 98.3226 - val_loss: 50.0403 - val_mse: 50.0403\n",
            "Epoch 22/50\n",
            "\u001b[1m400/400\u001b[0m \u001b[32m━━━━━━━━━━━━━━━━━━━━\u001b[0m\u001b[37m\u001b[0m \u001b[1m1s\u001b[0m 3ms/step - loss: 98.6463 - mse: 98.6463 - val_loss: 50.5719 - val_mse: 50.5719\n",
            "Epoch 23/50\n",
            "\u001b[1m400/400\u001b[0m \u001b[32m━━━━━━━━━━━━━━━━━━━━\u001b[0m\u001b[37m\u001b[0m \u001b[1m1s\u001b[0m 3ms/step - loss: 95.8516 - mse: 95.8516 - val_loss: 50.2601 - val_mse: 50.2601\n",
            "Epoch 24/50\n",
            "\u001b[1m400/400\u001b[0m \u001b[32m━━━━━━━━━━━━━━━━━━━━\u001b[0m\u001b[37m\u001b[0m \u001b[1m1s\u001b[0m 3ms/step - loss: 101.4050 - mse: 101.4050 - val_loss: 54.8711 - val_mse: 54.8711\n",
            "Epoch 25/50\n",
            "\u001b[1m400/400\u001b[0m \u001b[32m━━━━━━━━━━━━━━━━━━━━\u001b[0m\u001b[37m\u001b[0m \u001b[1m1s\u001b[0m 3ms/step - loss: 88.8230 - mse: 88.8230 - val_loss: 50.0506 - val_mse: 50.0506\n",
            "Epoch 26/50\n",
            "\u001b[1m400/400\u001b[0m \u001b[32m━━━━━━━━━━━━━━━━━━━━\u001b[0m\u001b[37m\u001b[0m \u001b[1m2s\u001b[0m 4ms/step - loss: 92.6730 - mse: 92.6730 - val_loss: 49.2655 - val_mse: 49.2655\n",
            "Epoch 27/50\n",
            "\u001b[1m400/400\u001b[0m \u001b[32m━━━━━━━━━━━━━━━━━━━━\u001b[0m\u001b[37m\u001b[0m \u001b[1m2s\u001b[0m 3ms/step - loss: 98.4153 - mse: 98.4153 - val_loss: 53.0282 - val_mse: 53.0282\n",
            "Epoch 28/50\n",
            "\u001b[1m400/400\u001b[0m \u001b[32m━━━━━━━━━━━━━━━━━━━━\u001b[0m\u001b[37m\u001b[0m \u001b[1m1s\u001b[0m 3ms/step - loss: 93.4120 - mse: 93.4120 - val_loss: 50.5579 - val_mse: 50.5579\n",
            "Epoch 29/50\n",
            "\u001b[1m400/400\u001b[0m \u001b[32m━━━━━━━━━━━━━━━━━━━━\u001b[0m\u001b[37m\u001b[0m \u001b[1m2s\u001b[0m 3ms/step - loss: 93.4544 - mse: 93.4544 - val_loss: 54.2200 - val_mse: 54.2200\n",
            "Epoch 30/50\n",
            "\u001b[1m400/400\u001b[0m \u001b[32m━━━━━━━━━━━━━━━━━━━━\u001b[0m\u001b[37m\u001b[0m \u001b[1m1s\u001b[0m 3ms/step - loss: 99.0084 - mse: 99.0084 - val_loss: 51.5061 - val_mse: 51.5061\n",
            "Epoch 31/50\n",
            "\u001b[1m400/400\u001b[0m \u001b[32m━━━━━━━━━━━━━━━━━━━━\u001b[0m\u001b[37m\u001b[0m \u001b[1m1s\u001b[0m 3ms/step - loss: 96.3995 - mse: 96.3995 - val_loss: 49.3653 - val_mse: 49.3653\n",
            "\u001b[1m125/125\u001b[0m \u001b[32m━━━━━━━━━━━━━━━━━━━━\u001b[0m\u001b[37m\u001b[0m \u001b[1m0s\u001b[0m 1ms/step\n"
          ]
        }
      ],
      "source": [
        "model = Sequential([\n",
        "    Dense(64, activation='relu', input_shape=(X_train.shape[1],)),\n",
        "    BatchNormalization(),\n",
        "    Dropout(0.2),\n",
        "    Dense(32, activation='relu'),\n",
        "    BatchNormalization(),\n",
        "    Dropout(0.2),\n",
        "    Dense(1)  # Linear output for regression\n",
        "])\n",
        "\n",
        "model.compile(optimizer=Adam(learning_rate=0.001),\n",
        "              loss='mse',\n",
        "              metrics=['mse'])\n",
        "\n",
        "early_stop = EarlyStopping(monitor='val_loss', patience=5, restore_best_weights=True)\n",
        "history = model.fit(\n",
        "    X_train, y_train,\n",
        "    validation_split=0.2,\n",
        "    epochs=50,\n",
        "    batch_size=32,\n",
        "    callbacks=[early_stop],\n",
        "    verbose=1\n",
        ")\n",
        "\n",
        "# Extract Hyperparameters\n",
        "def get_model_params(model):\n",
        "    params = {}\n",
        "\n",
        "    # Optimizer parameters\n",
        "    if hasattr(model.optimizer, 'learning_rate'):\n",
        "        params['learning_rate'] = float(model.optimizer.learning_rate.numpy())\n",
        "\n",
        "    # Layer-specific parameters\n",
        "    for layer in model.layers:\n",
        "        if isinstance(layer, Dense):\n",
        "            params[f'dense_units_{layer.name}'] = layer.units\n",
        "            params[f'activation_{layer.name}'] = layer.activation.__name__\n",
        "        elif isinstance(layer, Dropout):\n",
        "            params[f'dropout_rate_{layer.name}'] = layer.rate\n",
        "        elif isinstance(layer, BatchNormalization):\n",
        "            params[f'batchnorm_{layer.name}'] = True\n",
        "\n",
        "        return params\n",
        "\n",
        "# Predict & Evaluate\n",
        "y_pred_nn = model.predict(X_test).flatten()\n",
        "\n",
        "# Store results\n",
        "models['Neural Network'] = model\n",
        "results['Neural Network'] = {\n",
        "    'RMSE': np.sqrt(mean_squared_error(y_test, y_pred_nn)),\n",
        "    'R2': r2_score(y_test, y_pred_nn),\n",
        "    'Params': get_model_params(model)\n",
        "}"
      ]
    },
    {
      "cell_type": "markdown",
      "id": "25be2ce5",
      "metadata": {
        "id": "25be2ce5"
      },
      "source": [
        "3. **XGBoost Regressor**"
      ]
    },
    {
      "cell_type": "code",
      "execution_count": null,
      "id": "84f56ec5",
      "metadata": {
        "colab": {
          "base_uri": "https://localhost:8080/"
        },
        "id": "84f56ec5",
        "outputId": "bb687faa-a996-4a11-a594-5ef0b22f95b0"
      },
      "outputs": [
        {
          "name": "stdout",
          "output_type": "stream",
          "text": [
            "Fitting 3 folds for each of 72 candidates, totalling 216 fits\n"
          ]
        }
      ],
      "source": [
        "# 3. XGBoost Regressor\n",
        "xgb = XGBRegressor(objective='reg:squarederror', random_state=42)\n",
        "# Define the parameter grid\n",
        "param_grid = {\n",
        "    'n_estimators': [100, 200],\n",
        "    'learning_rate': [0.01, 0.05, 0.1],\n",
        "    'max_depth': [3, 5, 7],\n",
        "    'subsample': [0.8, 1.0],\n",
        "    'colsample_bytree': [0.8, 1.0]\n",
        "}\n",
        "\n",
        "# Initialize base model\n",
        "xgb_base = XGBRegressor(random_state=42)\n",
        "\n",
        "# Grid search with 3-fold cross-validation\n",
        "grid_search = GridSearchCV(\n",
        "    estimator=xgb_base,\n",
        "    param_grid=param_grid,\n",
        "    scoring='neg_mean_squared_error',\n",
        "    cv=3,\n",
        "    verbose=1,\n",
        "    n_jobs=-1\n",
        ")\n",
        "\n",
        "grid_search.fit(X_train, y_train)\n",
        "\n",
        "best_model = grid_search.best_estimator_\n",
        "y_pred_xgb = best_model.predict(X_test)\n",
        "\n",
        "models['XGBoost'] = grid_search.best_params_\n",
        "results['XGBoost'] = {\n",
        "    'RMSE': np.sqrt(mean_squared_error(y_test, y_pred_xgb)),\n",
        "    'R2': r2_score(y_test, y_pred_xgb),\n",
        "    'Params': grid_search.best_params_\n",
        "}"
      ]
    },
    {
      "cell_type": "markdown",
      "id": "70c91f4d",
      "metadata": {
        "id": "70c91f4d"
      },
      "source": [
        "**Models Comparison**"
      ]
    },
    {
      "cell_type": "code",
      "execution_count": null,
      "id": "17d77035",
      "metadata": {
        "colab": {
          "base_uri": "https://localhost:8080/",
          "height": 733
        },
        "id": "17d77035",
        "outputId": "860d464c-37ec-4780-a140-340790f53d1d"
      },
      "outputs": [
        {
          "name": "stdout",
          "output_type": "stream",
          "text": [
            "Model Comparison:\n",
            "Ridge:\n",
            "  RMSE        = 11.33\n",
            "  R²          = 0.8552\n",
            "  Params = {'alpha': 1}\n",
            "Neural Network:\n",
            "  RMSE        = 6.71\n",
            "  R²          = 0.9493\n",
            "  Params = {'learning_rate': 0.0010000000474974513, 'dense_units_dense_17': 64, 'activation_dense_17': 'relu'}\n",
            "XGBoost:\n",
            "  RMSE        = 6.38\n",
            "  R²          = 0.9541\n",
            "  Params = {'colsample_bytree': 0.8, 'learning_rate': 0.05, 'max_depth': 5, 'n_estimators': 200, 'subsample': 0.8}\n"
          ]
        },
        {
          "data": {
            "image/png": "[encoded data removed]",
            "text/plain": [
              "<Figure size 1000x500 with 2 Axes>"
            ]
          },
          "metadata": {},
          "output_type": "display_data"
        }
      ],
      "source": [
        "print(\"Model Comparison:\")\n",
        "for model_name, metrics in results.items():\n",
        "    print(f\"{model_name}:\")\n",
        "    print(f\"  RMSE        = {metrics['RMSE']:.2f}\")\n",
        "    print(f\"  R²          = {metrics['R2']:.4f}\")\n",
        "    print(f\"  Params = {metrics['Params']}\")\n",
        "\n",
        "# Extract metrics\n",
        "model_names = list(results.keys())\n",
        "rmse_values = [results[model]['RMSE'] for model in model_names]\n",
        "r2_values = [results[model]['R2'] for model in model_names]\n",
        "\n",
        "# Plot RMSE\n",
        "plt.figure(figsize=(10, 5))\n",
        "plt.subplot(1, 2, 1)\n",
        "plt.bar(model_names, rmse_values, color=['skyblue', 'lightgreen', 'salmon'])\n",
        "plt.title('RMSE Comparison')\n",
        "plt.ylabel('RMSE (Lower is Better)')\n",
        "plt.xticks(rotation=45)\n",
        "\n",
        "# Plot R²\n",
        "plt.subplot(1, 2, 2)\n",
        "plt.bar(model_names, r2_values, color=['skyblue', 'lightgreen', 'salmon'])\n",
        "plt.title('R² Comparison')\n",
        "plt.ylabel('R² (Higher is Better)')\n",
        "plt.xticks(rotation=45)\n",
        "\n",
        "plt.tight_layout()\n",
        "plt.show()\n"
      ]
    }
  ],
  "metadata": {
    "colab": {
      "provenance": []
    },
    "kernelspec": {
      "display_name": "base",
      "language": "python",
      "name": "python3"
    },
    "language_info": {
      "codemirror_mode": {
        "name": "ipython",
        "version": 3
      },
      "file_extension": ".py",
      "mimetype": "text/x-python",
      "name": "python",
      "nbconvert_exporter": "python",
      "pygments_lexer": "ipython3",
      "version": "3.12.7"
    }
  },
  "nbformat": 4,
  "nbformat_minor": 5
}
